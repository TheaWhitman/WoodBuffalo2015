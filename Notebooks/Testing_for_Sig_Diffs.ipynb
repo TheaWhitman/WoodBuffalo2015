{
 "cells": [
  {
   "cell_type": "markdown",
   "metadata": {},
   "source": [
    "## Testing effects of soil and fire properties on soil microbial communities"
   ]
  },
  {
   "cell_type": "code",
   "execution_count": 2,
   "metadata": {
    "collapsed": false
   },
   "outputs": [
    {
     "name": "stderr",
     "output_type": "stream",
     "text": [
      "Warning message:\n",
      "“package ‘vegan’ was built under R version 3.3.2”Loading required package: permute\n",
      "Loading required package: lattice\n",
      "This is vegan 2.4-2\n",
      "\n",
      "Attaching package: ‘dplyr’\n",
      "\n",
      "The following objects are masked from ‘package:plyr’:\n",
      "\n",
      "    arrange, count, desc, failwith, id, mutate, rename, summarise,\n",
      "    summarize\n",
      "\n",
      "The following objects are masked from ‘package:stats’:\n",
      "\n",
      "    filter, lag\n",
      "\n",
      "The following objects are masked from ‘package:base’:\n",
      "\n",
      "    intersect, setdiff, setequal, union\n",
      "\n",
      "Warning message:\n",
      "“package ‘ggplot2’ was built under R version 3.3.2”"
     ]
    }
   ],
   "source": [
    "library(phyloseq)\n",
    "library(vegan)\n",
    "library(plyr)\n",
    "library(dplyr)\n",
    "library(ggplot2)"
   ]
  },
  {
   "cell_type": "code",
   "execution_count": 12,
   "metadata": {
    "collapsed": false
   },
   "outputs": [
    {
     "name": "stderr",
     "output_type": "stream",
     "text": [
      "Warning message in strsplit(msg, \"\\n\"):\n",
      "“input string 1 is invalid in this locale”"
     ]
    }
   ],
   "source": [
    "# Importing the dataset\n",
    "ps = import_biom(\"../../data/Seq_data/QIIME_maxee2/OTU_table/feature-table-metaD-tax2.biom\",parseFunction=parse_taxonomy_greengenes, \"../../data/Seq_data/QIIME_maxee2/OTU_table/Trees3/fulltree2.rooted.tre\")"
   ]
  },
  {
   "cell_type": "code",
   "execution_count": 13,
   "metadata": {
    "collapsed": false
   },
   "outputs": [
    {
     "data": {
      "text/html": [
       "<table>\n",
       "<thead><tr><th scope=col>Factors</th><th scope=col>Class</th><th scope=col>Set</th></tr></thead>\n",
       "<tbody>\n",
       "\t<tr><td>Barcodes   </td><td>txt        </td><td>seq        </td></tr>\n",
       "\t<tr><td>Sample_Name</td><td>txt        </td><td>sample     </td></tr>\n",
       "\t<tr><td>Project_ID </td><td>txt        </td><td>sample     </td></tr>\n",
       "\t<tr><td>Sample_ID  </td><td>txt        </td><td>sample     </td></tr>\n",
       "\t<tr><td>Site_ID    </td><td>txt        </td><td>sample     </td></tr>\n",
       "\t<tr><td>Replicate  </td><td>txt        </td><td>sample     </td></tr>\n",
       "</tbody>\n",
       "</table>\n"
      ],
      "text/latex": [
       "\\begin{tabular}{r|lll}\n",
       " Factors & Class & Set\\\\\n",
       "\\hline\n",
       "\t Barcodes    & txt         & seq        \\\\\n",
       "\t Sample\\_Name & txt           & sample       \\\\\n",
       "\t Project\\_ID  & txt           & sample       \\\\\n",
       "\t Sample\\_ID   & txt           & sample       \\\\\n",
       "\t Site\\_ID     & txt           & sample       \\\\\n",
       "\t Replicate   & txt         & sample     \\\\\n",
       "\\end{tabular}\n"
      ],
      "text/markdown": [
       "\n",
       "Factors | Class | Set | \n",
       "|---|---|---|---|---|---|\n",
       "| Barcodes    | txt         | seq         | \n",
       "| Sample_Name | txt         | sample      | \n",
       "| Project_ID  | txt         | sample      | \n",
       "| Sample_ID   | txt         | sample      | \n",
       "| Site_ID     | txt         | sample      | \n",
       "| Replicate   | txt         | sample      | \n",
       "\n",
       "\n"
      ],
      "text/plain": [
       "  Factors     Class Set   \n",
       "1 Barcodes    txt   seq   \n",
       "2 Sample_Name txt   sample\n",
       "3 Project_ID  txt   sample\n",
       "4 Sample_ID   txt   sample\n",
       "5 Site_ID     txt   sample\n",
       "6 Replicate   txt   sample"
      ]
     },
     "metadata": {},
     "output_type": "display_data"
    }
   ],
   "source": [
    "# Importing the dataset\n",
    "df = read.csv(\"../../data/Soil_properties/WBNPNWT_Soils_2015_Metadata_File_QIIME.txt\",sep=\"\\t\",header=TRUE, row.names=1)\n",
    "# Import the file\n",
    "Factors = colnames(df)\n",
    "FactorClass = c(\"txt\",\"txt\",\"txt\",\"txt\",\"txt\",\"txt\",\"txt\",\"txt\",\"txt\",\"txt\",\"num\",\"num\",\"num\",\"num\",\"num\",\"num\",\"num\",\"num\",\"num\",\"num\",\"num\",\"num\",\"num\",\"num\",\"num\",\"num\",\"num\",\"num\",\"num\",\"num\",\"num\",\"num\",\"num\",\"num\",\"num\",\"num\",\"num\",\"num\",\"txt\",\"txt\",\"txt\",\"num\",\"txt\",\"txt\",\"num\",\"num\",\"txt\",\"txt\",\"txt\",\"txt\",\"txt\",\"num\",\"num\",\"num\",\"num\",\"num\",\"num\",\"num\",\"num\",\"num\",\"num\",\"num\",\"num\",\"txt\",\"num\",\"num\",\"num\",\"num\",\"num\",\"num\",\"num\",\"num\",\"num\",\"num\")\n",
    "FactorSet = c(\"seq\",\"sample\",\"sample\",\"sample\",\"sample\",\"sample\",\"sample\",\"seq\",\"seq\",\"seq\",\"soil\",\"soil\",\"soil\",\"soil\",\"soil\",\"soil\",\"soil\",\"soil\",\"soil\",\"soil\",\"soil\",\"soil\",\"soil\",\"soil\",\"soil\",\"soil\",\"soil\",\"soil\",\"soil\",\"soil\",\"soil\",\"soil\",\"soil\",\"soil\",\"soil\",\"soil\",\"soil\",\"soil\",\"class\",\"class\",\"class\",\"class\",\"class\",\"class\",\"class\",\"class\",\"class\",\"class\",\"class\",\"class\",\"sample\",\"severity\",\"severity\",\"severity\",\"severity\",\"severity\",\"severity\",\"severity\",\"severity\",\"severity\",\"severity\",\"severity\",\"severity\",\"severity\",\"codes\",\"codes\",\"codes\",\"codes\",\"codes\",\"codes\",\"codes\",\"codes\",\"codes\",\"codes\")\n",
    "FactorTable = data.frame(Factors=Factors,Class=FactorClass,Set=FactorSet)\n",
    "# Creating a dataframe with all the factors and whether or not they should be numeric\n",
    "# And what set of data they belong to\n",
    "### Selecting only numeric properties\n",
    "for (i in colnames(sample_data(ps))) {\n",
    "        if(FactorTable$Class[FactorTable$Factors==i]==\"num\"){\n",
    "            sample_data(ps)[,i] = as.numeric(data.frame(sample_data(ps)[,i])[,1])\n",
    "        }\n",
    "    }\n",
    "# Converting numbers to actual numbers"
   ]
  },
  {
   "cell_type": "code",
   "execution_count": 53,
   "metadata": {
    "collapsed": false
   },
   "outputs": [
    {
     "name": "stderr",
     "output_type": "stream",
     "text": [
      "Warning message:\n",
      "“NAs introduced by coercion”Warning message:\n",
      "“NAs introduced by coercion”Warning message:\n",
      "“NAs introduced by coercion”Warning message:\n",
      "“NAs introduced by coercion”Warning message:\n",
      "“NAs introduced by coercion”Warning message:\n",
      "“NAs introduced by coercion”Warning message:\n",
      "“NAs introduced by coercion”Warning message:\n",
      "“NAs introduced by coercion”Warning message:\n",
      "“NAs introduced by coercion”Warning message:\n",
      "“NAs introduced by coercion”Warning message:\n",
      "“NAs introduced by coercion”Warning message:\n",
      "“NAs introduced by coercion”Warning message:\n",
      "“NAs introduced by coercion”Warning message:\n",
      "“NAs introduced by coercion”Warning message:\n",
      "“NAs introduced by coercion”Warning message:\n",
      "“NAs introduced by coercion”Warning message:\n",
      "“NAs introduced by coercion”Warning message:\n",
      "“NAs introduced by coercion”Warning message:\n",
      "“NAs introduced by coercion”Warning message:\n",
      "“NAs introduced by coercion”Warning message:\n",
      "“NAs introduced by coercion”Warning message:\n",
      "“NAs introduced by coercion”Warning message:\n",
      "“NAs introduced by coercion”Warning message:\n",
      "“NAs introduced by coercion”Warning message:\n",
      "“NAs introduced by coercion”Warning message:\n",
      "“NAs introduced by coercion”Warning message:\n",
      "“NAs introduced by coercion”Warning message:\n",
      "“NAs introduced by coercion”Warning message:\n",
      "“NAs introduced by coercion”Warning message:\n",
      "“NAs introduced by coercion”Warning message:\n",
      "“NAs introduced by coercion”Warning message:\n",
      "“NAs introduced by coercion”Warning message:\n",
      "“NAs introduced by coercion”Warning message:\n",
      "“NAs introduced by coercion”Warning message:\n",
      "“NAs introduced by coercion”Warning message:\n",
      "“NAs introduced by coercion”Warning message:\n",
      "“NAs introduced by coercion”Warning message:\n",
      "“NAs introduced by coercion”Warning message:\n",
      "“NAs introduced by coercion”Warning message:\n",
      "“NAs introduced by coercion”Warning message:\n",
      "“NAs introduced by coercion”Warning message:\n",
      "“NAs introduced by coercion”Warning message:\n",
      "“NAs introduced by coercion”Warning message:\n",
      "“NAs introduced by coercion”Warning message:\n",
      "“NAs introduced by coercion”Warning message:\n",
      "“NAs introduced by coercion”Warning message:\n",
      "“NAs introduced by coercion”Warning message:\n",
      "“NAs introduced by coercion”Warning message:\n",
      "“NAs introduced by coercion”Warning message:\n",
      "“NAs introduced by coercion”Warning message:\n",
      "“NAs introduced by coercion”Warning message:\n",
      "“NAs introduced by coercion”Warning message:\n",
      "“NAs introduced by coercion”"
     ]
    }
   ],
   "source": []
  },
  {
   "cell_type": "code",
   "execution_count": 54,
   "metadata": {
    "collapsed": false
   },
   "outputs": [],
   "source": [
    "sample_data(ps)$TotalSeqs=sample_sums(ps)"
   ]
  },
  {
   "cell_type": "code",
   "execution_count": 55,
   "metadata": {
    "collapsed": true
   },
   "outputs": [
    {
     "name": "stderr",
     "output_type": "stream",
     "text": [
      "Warning message in asMethod(object):\n",
      "“NAs introduced by coercion”Warning message in asMethod(object):\n",
      "“NAs introduced by coercion”Warning message in asMethod(object):\n",
      "“NAs introduced by coercion”Warning message in asMethod(object):\n",
      "“NAs introduced by coercion”Warning message in asMethod(object):\n",
      "“NAs introduced by coercion”Warning message in asMethod(object):\n",
      "“NAs introduced by coercion”Warning message in asMethod(object):\n",
      "“NAs introduced by coercion”Warning message in asMethod(object):\n",
      "“NAs introduced by coercion”Warning message in asMethod(object):\n",
      "“NAs introduced by coercion”Warning message in asMethod(object):\n",
      "“NAs introduced by coercion”Warning message in asMethod(object):\n",
      "“NAs introduced by coercion”Warning message in asMethod(object):\n",
      "“NAs introduced by coercion”Warning message in asMethod(object):\n",
      "“NAs introduced by coercion”Warning message in asMethod(object):\n",
      "“NAs introduced by coercion”Warning message in asMethod(object):\n",
      "“NAs introduced by coercion”Warning message in asMethod(object):\n",
      "“NAs introduced by coercion”Warning message in asMethod(object):\n",
      "“NAs introduced by coercion”Warning message in asMethod(object):\n",
      "“NAs introduced by coercion”Warning message in asMethod(object):\n",
      "“NAs introduced by coercion”Warning message in asMethod(object):\n",
      "“NAs introduced by coercion”"
     ]
    }
   ],
   "source": [
    "# Pulling out samples from this project only\n",
    "ps.wb = prune_samples(sample_data(ps)$Project_ID==\"WB15\", ps)\n",
    "ps.wb = prune_samples(sample_data(ps.wb)$Org_or_Min %in% c(\"O\",\"M\"), ps.wb)\n",
    "# Merging lab replicates for analysis\n",
    "ps.merged = merge_samples(ps.wb, \"Sample_ID\")\n",
    "\n",
    "# This sums the OTUs for each sample ID, and averages the sample data\n",
    "# That's an issue for the non-numeric sample data, so we have to add it back in.\n",
    "# The code below is probably inefficient, but it works correctly.\n",
    "names=colnames(sample_data(ps.wb))\n",
    "notcommonnames = c('Sample_Name','Replicate','Project_ID','Fwd_Primer_Barcode','Rev_Primer_Barcode','Revcomp_Rev_Primer_Barcode')\n",
    "commonnames = names[(names %in% notcommonnames)]\n",
    "common_sample_data = sample_data(ps.wb)[ , -which(names(sample_data(ps.wb)) %in% commonnames)]\n",
    "commonrownames=row.names(sample_data(ps.merged))\n",
    "common_sample_data2 = common_sample_data[which(common_sample_data$Sample_ID %in% commonrownames),]\n",
    "common_sample_data2 = common_sample_data2[!duplicated(common_sample_data2$Sample_ID), ]\n",
    "row.names(common_sample_data2) = common_sample_data2$Sample_ID\n",
    "sample_data(ps.merged)=common_sample_data2\n",
    "\n",
    "ps.merged.norm = transform_sample_counts(ps.merged, function(x) x / sum(x) )\n",
    "\n",
    "minseqs = 3000\n",
    "ps.merged.norm.min = prune_samples(sample_data(ps.merged.norm)$TotalSeqs>minseqs,ps.merged.norm)"
   ]
  },
  {
   "cell_type": "code",
   "execution_count": 57,
   "metadata": {
    "collapsed": false
   },
   "outputs": [
    {
     "data": {
      "text/html": [
       "<table>\n",
       "<thead><tr><th></th><th scope=col>Df</th><th scope=col>Sum Sq</th><th scope=col>Mean Sq</th><th scope=col>F value</th><th scope=col>Pr(&gt;F)</th></tr></thead>\n",
       "<tbody>\n",
       "\t<tr><th scope=row>Groups</th><td> 1         </td><td>0.006869309</td><td>0.006869309</td><td>4.268771   </td><td>0.04172582 </td></tr>\n",
       "\t<tr><th scope=row>Residuals</th><td>89         </td><td>0.143218842</td><td>0.001609200</td><td>      NA   </td><td>        NA </td></tr>\n",
       "</tbody>\n",
       "</table>\n"
      ],
      "text/latex": [
       "\\begin{tabular}{r|lllll}\n",
       "  & Df & Sum Sq & Mean Sq & F value & Pr(>F)\\\\\n",
       "\\hline\n",
       "\tGroups &  1          & 0.006869309 & 0.006869309 & 4.268771    & 0.04172582 \\\\\n",
       "\tResiduals & 89          & 0.143218842 & 0.001609200 &       NA    &         NA \\\\\n",
       "\\end{tabular}\n"
      ],
      "text/markdown": [
       "\n",
       "| <!--/--> | Df | Sum Sq | Mean Sq | F value | Pr(>F) | \n",
       "|---|---|\n",
       "| Groups |  1          | 0.006869309 | 0.006869309 | 4.268771    | 0.04172582  | \n",
       "| Residuals | 89          | 0.143218842 | 0.001609200 |       NA    |         NA  | \n",
       "\n",
       "\n"
      ],
      "text/plain": [
       "          Df Sum Sq      Mean Sq     F value  Pr(>F)    \n",
       "Groups     1 0.006869309 0.006869309 4.268771 0.04172582\n",
       "Residuals 89 0.143218842 0.001609200       NA         NA"
      ]
     },
     "metadata": {},
     "output_type": "display_data"
    },
    {
     "data": {
      "text/plain": [
       "  Tukey multiple comparisons of means\n",
       "    95% family-wise confidence level\n",
       "\n",
       "Fit: aov(formula = distances ~ group, data = df)\n",
       "\n",
       "$group\n",
       "          diff          lwr        upr     p adj\n",
       "O-M 0.01761763 0.0006746714 0.03456059 0.0417258\n"
      ]
     },
     "metadata": {},
     "output_type": "display_data"
    },
    {
     "data": {
      "image/png": "[encoded data removed]",
      "text/plain": [
       "plot without title"
      ]
     },
     "metadata": {},
     "output_type": "display_data"
    }
   ],
   "source": [
    "physeq = ps.merged.norm.min\n",
    "df = as(sample_data(physeq), \"data.frame\")\n",
    "d = distance(physeq, method = \"unifrac\", weighted=TRUE)\n",
    "sampdat = sample_data(physeq)\n",
    "groups = as.factor(sampdat$Org_or_Min)\n",
    "x = betadisper(d, groups)\n",
    "boxplot(x, ylab = \"Distance to centroid\")\n",
    "anova(x)\n",
    "TukeyHSD(x, ordered = FALSE, conf.level = 0.95)\n",
    "# Performing test of beta dispersion - the permanova/adonis test requires that groups have similar dispersion.\n",
    "# This doesn't look outrageously bad here for the different vegetation communities - no significant differences.\n",
    "# Looks generally okay for Severity_Class\n",
    "# Land_Class has an issue - classes have significantly diff betadispersion\n",
    "# Mineral / Organic also have diff betadispersion"
   ]
  },
  {
   "cell_type": "code",
   "execution_count": 121,
   "metadata": {
    "collapsed": false
   },
   "outputs": [
    {
     "data": {
      "text/html": [
       "<ol class=list-inline>\n",
       "\t<li>'Al_mg_kg'</li>\n",
       "\t<li>'Barcodes'</li>\n",
       "\t<li>'Burn_Severity_Index'</li>\n",
       "\t<li>'Burned_Unburned'</li>\n",
       "\t<li>'CBI'</li>\n",
       "\t<li>'CEC_cmol_kg'</li>\n",
       "\t<li>'CFSI'</li>\n",
       "\t<li>'Ca_mg_kg'</li>\n",
       "\t<li>'Clay_pct'</li>\n",
       "\t<li>'Community'</li>\n",
       "\t<li>'Cu_mg_kg'</li>\n",
       "\t<li>'Dead_Trees'</li>\n",
       "\t<li>'EC_mS_cm'</li>\n",
       "\t<li>'Ecosite'</li>\n",
       "\t<li>'Exch_Ca_mg_kg'</li>\n",
       "\t<li>'Exch_K_mg_kg'</li>\n",
       "\t<li>'Exch_Mg_mg_kg'</li>\n",
       "\t<li>'Exch_Na_mg_kg'</li>\n",
       "\t<li>'Fe_mg_kg'</li>\n",
       "\t<li>'Fire_ID'</li>\n",
       "\t<li>'Forest'</li>\n",
       "\t<li>'Interval'</li>\n",
       "\t<li>'K_mg_kg'</li>\n",
       "\t<li>'Land_Class'</li>\n",
       "\t<li>'Land_Class_Unburned'</li>\n",
       "\t<li>'Live_Trees'</li>\n",
       "\t<li>'Mean_Duff_Depth_cm'</li>\n",
       "\t<li>'Mg_mg_kg'</li>\n",
       "\t<li>'Mn_mg_kg'</li>\n",
       "\t<li>'Mo_mg_kg'</li>\n",
       "\t<li>'Moisture'</li>\n",
       "\t<li>'Moisture_Regime'</li>\n",
       "\t<li>'Na_mg_kg'</li>\n",
       "\t<li>'Nutrient'</li>\n",
       "\t<li>'O_Depth_cm'</li>\n",
       "\t<li>'Org_or_Min'</li>\n",
       "\t<li>'Overstory_CBI'</li>\n",
       "\t<li>'P_mg_kg'</li>\n",
       "\t<li>'Pct_Exposed_Mineral'</li>\n",
       "\t<li>'Plains'</li>\n",
       "\t<li>'RBR'</li>\n",
       "\t<li>'S_mg_kg'</li>\n",
       "\t<li>'Sample_ID'</li>\n",
       "\t<li>'Sand_pct'</li>\n",
       "\t<li>'Severity_Class'</li>\n",
       "\t<li>'Silt_pct'</li>\n",
       "\t<li>'Site_ID'</li>\n",
       "\t<li>'TC_pct'</li>\n",
       "\t<li>'TIC_ash_pct'</li>\n",
       "\t<li>'TOC_HCL_cruc_pct'</li>\n",
       "\t<li>'TOC_LOI_pct'</li>\n",
       "\t<li>'Total_N_pct'</li>\n",
       "\t<li>'Total_S_pct'</li>\n",
       "\t<li>'Understory_CBI'</li>\n",
       "\t<li>'Veg_Comm'</li>\n",
       "\t<li>'Zn_mg_kg'</li>\n",
       "\t<li>'bui'</li>\n",
       "\t<li>'dc'</li>\n",
       "\t<li>'dmc'</li>\n",
       "\t<li>'ffmc'</li>\n",
       "\t<li>'fwi'</li>\n",
       "\t<li>'isi'</li>\n",
       "\t<li>'nTrees'</li>\n",
       "\t<li>'pH'</li>\n",
       "\t<li>'prec'</li>\n",
       "\t<li>'rh'</li>\n",
       "\t<li>'temp'</li>\n",
       "\t<li>'ws'</li>\n",
       "\t<li>'TotalSeqs'</li>\n",
       "</ol>\n"
      ],
      "text/latex": [
       "\\begin{enumerate*}\n",
       "\\item 'Al\\_mg\\_kg'\n",
       "\\item 'Barcodes'\n",
       "\\item 'Burn\\_Severity\\_Index'\n",
       "\\item 'Burned\\_Unburned'\n",
       "\\item 'CBI'\n",
       "\\item 'CEC\\_cmol\\_kg'\n",
       "\\item 'CFSI'\n",
       "\\item 'Ca\\_mg\\_kg'\n",
       "\\item 'Clay\\_pct'\n",
       "\\item 'Community'\n",
       "\\item 'Cu\\_mg\\_kg'\n",
       "\\item 'Dead\\_Trees'\n",
       "\\item 'EC\\_mS\\_cm'\n",
       "\\item 'Ecosite'\n",
       "\\item 'Exch\\_Ca\\_mg\\_kg'\n",
       "\\item 'Exch\\_K\\_mg\\_kg'\n",
       "\\item 'Exch\\_Mg\\_mg\\_kg'\n",
       "\\item 'Exch\\_Na\\_mg\\_kg'\n",
       "\\item 'Fe\\_mg\\_kg'\n",
       "\\item 'Fire\\_ID'\n",
       "\\item 'Forest'\n",
       "\\item 'Interval'\n",
       "\\item 'K\\_mg\\_kg'\n",
       "\\item 'Land\\_Class'\n",
       "\\item 'Land\\_Class\\_Unburned'\n",
       "\\item 'Live\\_Trees'\n",
       "\\item 'Mean\\_Duff\\_Depth\\_cm'\n",
       "\\item 'Mg\\_mg\\_kg'\n",
       "\\item 'Mn\\_mg\\_kg'\n",
       "\\item 'Mo\\_mg\\_kg'\n",
       "\\item 'Moisture'\n",
       "\\item 'Moisture\\_Regime'\n",
       "\\item 'Na\\_mg\\_kg'\n",
       "\\item 'Nutrient'\n",
       "\\item 'O\\_Depth\\_cm'\n",
       "\\item 'Org\\_or\\_Min'\n",
       "\\item 'Overstory\\_CBI'\n",
       "\\item 'P\\_mg\\_kg'\n",
       "\\item 'Pct\\_Exposed\\_Mineral'\n",
       "\\item 'Plains'\n",
       "\\item 'RBR'\n",
       "\\item 'S\\_mg\\_kg'\n",
       "\\item 'Sample\\_ID'\n",
       "\\item 'Sand\\_pct'\n",
       "\\item 'Severity\\_Class'\n",
       "\\item 'Silt\\_pct'\n",
       "\\item 'Site\\_ID'\n",
       "\\item 'TC\\_pct'\n",
       "\\item 'TIC\\_ash\\_pct'\n",
       "\\item 'TOC\\_HCL\\_cruc\\_pct'\n",
       "\\item 'TOC\\_LOI\\_pct'\n",
       "\\item 'Total\\_N\\_pct'\n",
       "\\item 'Total\\_S\\_pct'\n",
       "\\item 'Understory\\_CBI'\n",
       "\\item 'Veg\\_Comm'\n",
       "\\item 'Zn\\_mg\\_kg'\n",
       "\\item 'bui'\n",
       "\\item 'dc'\n",
       "\\item 'dmc'\n",
       "\\item 'ffmc'\n",
       "\\item 'fwi'\n",
       "\\item 'isi'\n",
       "\\item 'nTrees'\n",
       "\\item 'pH'\n",
       "\\item 'prec'\n",
       "\\item 'rh'\n",
       "\\item 'temp'\n",
       "\\item 'ws'\n",
       "\\item 'TotalSeqs'\n",
       "\\end{enumerate*}\n"
      ],
      "text/markdown": [
       "1. 'Al_mg_kg'\n",
       "2. 'Barcodes'\n",
       "3. 'Burn_Severity_Index'\n",
       "4. 'Burned_Unburned'\n",
       "5. 'CBI'\n",
       "6. 'CEC_cmol_kg'\n",
       "7. 'CFSI'\n",
       "8. 'Ca_mg_kg'\n",
       "9. 'Clay_pct'\n",
       "10. 'Community'\n",
       "11. 'Cu_mg_kg'\n",
       "12. 'Dead_Trees'\n",
       "13. 'EC_mS_cm'\n",
       "14. 'Ecosite'\n",
       "15. 'Exch_Ca_mg_kg'\n",
       "16. 'Exch_K_mg_kg'\n",
       "17. 'Exch_Mg_mg_kg'\n",
       "18. 'Exch_Na_mg_kg'\n",
       "19. 'Fe_mg_kg'\n",
       "20. 'Fire_ID'\n",
       "21. 'Forest'\n",
       "22. 'Interval'\n",
       "23. 'K_mg_kg'\n",
       "24. 'Land_Class'\n",
       "25. 'Land_Class_Unburned'\n",
       "26. 'Live_Trees'\n",
       "27. 'Mean_Duff_Depth_cm'\n",
       "28. 'Mg_mg_kg'\n",
       "29. 'Mn_mg_kg'\n",
       "30. 'Mo_mg_kg'\n",
       "31. 'Moisture'\n",
       "32. 'Moisture_Regime'\n",
       "33. 'Na_mg_kg'\n",
       "34. 'Nutrient'\n",
       "35. 'O_Depth_cm'\n",
       "36. 'Org_or_Min'\n",
       "37. 'Overstory_CBI'\n",
       "38. 'P_mg_kg'\n",
       "39. 'Pct_Exposed_Mineral'\n",
       "40. 'Plains'\n",
       "41. 'RBR'\n",
       "42. 'S_mg_kg'\n",
       "43. 'Sample_ID'\n",
       "44. 'Sand_pct'\n",
       "45. 'Severity_Class'\n",
       "46. 'Silt_pct'\n",
       "47. 'Site_ID'\n",
       "48. 'TC_pct'\n",
       "49. 'TIC_ash_pct'\n",
       "50. 'TOC_HCL_cruc_pct'\n",
       "51. 'TOC_LOI_pct'\n",
       "52. 'Total_N_pct'\n",
       "53. 'Total_S_pct'\n",
       "54. 'Understory_CBI'\n",
       "55. 'Veg_Comm'\n",
       "56. 'Zn_mg_kg'\n",
       "57. 'bui'\n",
       "58. 'dc'\n",
       "59. 'dmc'\n",
       "60. 'ffmc'\n",
       "61. 'fwi'\n",
       "62. 'isi'\n",
       "63. 'nTrees'\n",
       "64. 'pH'\n",
       "65. 'prec'\n",
       "66. 'rh'\n",
       "67. 'temp'\n",
       "68. 'ws'\n",
       "69. 'TotalSeqs'\n",
       "\n",
       "\n"
      ],
      "text/plain": [
       " [1] \"Al_mg_kg\"            \"Barcodes\"            \"Burn_Severity_Index\"\n",
       " [4] \"Burned_Unburned\"     \"CBI\"                 \"CEC_cmol_kg\"        \n",
       " [7] \"CFSI\"                \"Ca_mg_kg\"            \"Clay_pct\"           \n",
       "[10] \"Community\"           \"Cu_mg_kg\"            \"Dead_Trees\"         \n",
       "[13] \"EC_mS_cm\"            \"Ecosite\"             \"Exch_Ca_mg_kg\"      \n",
       "[16] \"Exch_K_mg_kg\"        \"Exch_Mg_mg_kg\"       \"Exch_Na_mg_kg\"      \n",
       "[19] \"Fe_mg_kg\"            \"Fire_ID\"             \"Forest\"             \n",
       "[22] \"Interval\"            \"K_mg_kg\"             \"Land_Class\"         \n",
       "[25] \"Land_Class_Unburned\" \"Live_Trees\"          \"Mean_Duff_Depth_cm\" \n",
       "[28] \"Mg_mg_kg\"            \"Mn_mg_kg\"            \"Mo_mg_kg\"           \n",
       "[31] \"Moisture\"            \"Moisture_Regime\"     \"Na_mg_kg\"           \n",
       "[34] \"Nutrient\"            \"O_Depth_cm\"          \"Org_or_Min\"         \n",
       "[37] \"Overstory_CBI\"       \"P_mg_kg\"             \"Pct_Exposed_Mineral\"\n",
       "[40] \"Plains\"              \"RBR\"                 \"S_mg_kg\"            \n",
       "[43] \"Sample_ID\"           \"Sand_pct\"            \"Severity_Class\"     \n",
       "[46] \"Silt_pct\"            \"Site_ID\"             \"TC_pct\"             \n",
       "[49] \"TIC_ash_pct\"         \"TOC_HCL_cruc_pct\"    \"TOC_LOI_pct\"        \n",
       "[52] \"Total_N_pct\"         \"Total_S_pct\"         \"Understory_CBI\"     \n",
       "[55] \"Veg_Comm\"            \"Zn_mg_kg\"            \"bui\"                \n",
       "[58] \"dc\"                  \"dmc\"                 \"ffmc\"               \n",
       "[61] \"fwi\"                 \"isi\"                 \"nTrees\"             \n",
       "[64] \"pH\"                  \"prec\"                \"rh\"                 \n",
       "[67] \"temp\"                \"ws\"                  \"TotalSeqs\"          "
      ]
     },
     "metadata": {},
     "output_type": "display_data"
    }
   ],
   "source": [
    "colnames(sample_data(ps.merged.norm.min))"
   ]
  },
  {
   "cell_type": "code",
   "execution_count": 173,
   "metadata": {
    "collapsed": false
   },
   "outputs": [],
   "source": [
    "AdonisFunction = function(physeq=ps.merged.norm.min, method=\"unifrac\", Org_or_Min=c(\"O\",\"M\"), Land_Class=c(\"Upland\",\"Wetland\")){\n",
    "    physeq = prune_samples(sample_data(physeq)$Burned_Unburned == \"Burned\", physeq)\n",
    "    physeq = prune_samples(sample_data(physeq)$Org_or_Min %in% Org_or_Min, physeq)\n",
    "    physeq = prune_samples(sample_data(physeq)$Land_Class %in% Land_Class, physeq)\n",
    "    physeq = prune_samples(!is.na(sample_data(physeq)$pH), physeq)\n",
    "        physeq = prune_samples(!is.na(sample_data(physeq)$CFSI), physeq)\n",
    "    d = distance(physeq, method = method, weighted=TRUE)  \n",
    "    d.adonis = adonis(d ~ \n",
    "                      + sample_data(physeq)$Veg_Comm  \n",
    "                      #+ sample_data(physeq)$Org_or_Min \n",
    "                      #+ sample_data(physeq)$Land_Class\n",
    "                      #+ sample_data(physeq)$Sand_pct \n",
    "                      #+ sample_data(physeq)$pH\n",
    "                      #+ sample_data(physeq)$Total_S_pct\n",
    "                      #+ sample_data(physeq)$Al_mg_kg\n",
    "                      #+ sample_data(physeq)$Exch_Ca_mg_kg\n",
    "                      #+ sample_data(physeq)$Fire_ID\n",
    "                      #+ sample_data(physeq)$CFSI\n",
    "                      #+ sample_data(physeq)$CEC_cmol_kg\n",
    "                      #+ sample_data(physeq)$TOC_LOI_pct\n",
    "                      #+ sample_data(physeq)$ffmc\n",
    "                      #+ sample_data(physeq)$Pct_Exposed_Mineral\n",
    "                      #+ sample_data(physeq)$P_mg_kg\n",
    "                      #+ sample_data(physeq)$Total_N_pct\n",
    "                      + sample_data(physeq)$CBI\n",
    "                      #+ sample_data(physeq)$RBR\n",
    "                      #+ sample_data(physeq)$Burn_Severity_Index\n",
    "                      , df)\n",
    "    d.adonis\n",
    "}\n",
    "# Try removing unburned sites from these models"
   ]
  },
  {
   "cell_type": "code",
   "execution_count": 174,
   "metadata": {
    "collapsed": false,
    "scrolled": false
   },
   "outputs": [
    {
     "data": {
      "text/plain": [
       "\n",
       "Call:\n",
       "adonis(formula = d ~ +sample_data(physeq)$Veg_Comm + sample_data(physeq)$CBI,      data = df) \n",
       "\n",
       "Permutation: free\n",
       "Number of permutations: 999\n",
       "\n",
       "Terms added sequentially (first to last)\n",
       "\n",
       "                             Df SumsOfSqs  MeanSqs F.Model      R2 Pr(>F)   \n",
       "sample_data(physeq)$Veg_Comm  3   0.07251 0.024170  1.6831 0.14645  0.063 . \n",
       "sample_data(physeq)$CBI       1   0.04923 0.049231  3.4283 0.09943  0.006 **\n",
       "Residuals                    26   0.37337 0.014360         0.75412          \n",
       "Total                        30   0.49511                  1.00000          \n",
       "---\n",
       "Signif. codes:  0 ‘***’ 0.001 ‘**’ 0.01 ‘*’ 0.05 ‘.’ 0.1 ‘ ’ 1"
      ]
     },
     "metadata": {},
     "output_type": "display_data"
    }
   ],
   "source": [
    "AdonisFunction(Org_or_Min=\"M\")"
   ]
  },
  {
   "cell_type": "code",
   "execution_count": null,
   "metadata": {
    "collapsed": true
   },
   "outputs": [],
   "source": []
  },
  {
   "cell_type": "code",
   "execution_count": null,
   "metadata": {
    "collapsed": true
   },
   "outputs": [],
   "source": []
  }
 ],
 "metadata": {
  "kernelspec": {
   "display_name": "R",
   "language": "R",
   "name": "ir"
  },
  "language_info": {
   "codemirror_mode": "r",
   "file_extension": ".r",
   "mimetype": "text/x-r-source",
   "name": "R",
   "pygments_lexer": "r",
   "version": "3.3.1"
  }
 },
 "nbformat": 4,
 "nbformat_minor": 2
}
