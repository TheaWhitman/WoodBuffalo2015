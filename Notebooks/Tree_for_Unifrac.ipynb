{
 "cells": [
  {
   "cell_type": "markdown",
   "metadata": {},
   "source": [
    "## Creating a rough tree for Unifrac analyses\n",
    "As currently run, we lost 8/27 archaeal OTUs"
   ]
  },
  {
   "cell_type": "code",
   "execution_count": 10,
   "metadata": {
    "collapsed": false
   },
   "outputs": [],
   "source": [
    "%load_ext rpy2.ipython"
   ]
  },
  {
   "cell_type": "code",
   "execution_count": 1,
   "metadata": {
    "collapsed": false
   },
   "outputs": [
    {
     "name": "stdout",
     "output_type": "stream",
     "text": [
      "/opt/virt_env/bin/ssu-align-0.1\r\n"
     ]
    }
   ],
   "source": [
    "#!export SSUALIGNDIR=\"/opt/virt_env/bin/ssu-align-0.1\"\n",
    "!echo $SSUALIGNDIR"
   ]
  },
  {
   "cell_type": "code",
   "execution_count": 1,
   "metadata": {
    "collapsed": false
   },
   "outputs": [
    {
     "name": "stdout",
     "output_type": "stream",
     "text": [
      "# ssu-align :: align SSU rRNA sequences\r\n",
      "# SSU-ALIGN 0.1 (June 2010)\r\n",
      "# Copyright (C) 2010 HHMI Janelia Farm Research Campus\r\n",
      "# Freely distributed under the GNU General Public License (GPLv3)\r\n",
      "# - - - - - - - - - - - - - - - - - - - - - - - - - - - - - - - - - - - -\r\n",
      "# command: ssu-align -h \r\n",
      "# date:    Tue May 30 14:02:54 2017\r\n",
      "Usage: ssu-align [-options] <sequence file> <output dir>\r\n",
      "\r\n",
      "where general options are:\r\n",
      "  -h     : show brief help on version and usage\r\n",
      "  -f     : force; if dir named <output dir> already exists, empty it first\r\n",
      "  -m <f> : use CM file <f> instead of the default CM file\r\n",
      "  -b <x> : set minimum bit score of a surviving subsequence as <x> [default: 50]\r\n",
      "  -l <n> : set minimum length    of a surviving subsequence as <n> [default: 1]\r\n",
      "  -i     : output alignments in interleaved Stockholm format (not 1 line/seq)\r\n",
      "  -n <s> : only search with and align to single CM named <s> in CM file\r\n",
      "           (default CM file includes 'archaea', 'bacteria', 'eukarya')\r\n",
      "\r\n",
      "miscellaneous output options:\r\n",
      "  --dna      : output alignments as DNA, default is RNA (even if input is DNA)\r\n",
      "  --rfonly   : discard inserts, only keep consensus (nongap RF) columns in alignments\r\n",
      "               (alignments will be fixed width but won't include all target nucleotides)\r\n",
      "\r\n",
      "options for skipping the 1st (search) stage or 2nd (alignment) stage:\r\n",
      "  --no-align  : only search target sequence file for hits, skip alignment step\r\n",
      "  --no-search : only align  target sequence file, skip initial search step\r\n",
      "\r\n",
      "expert options for tuning the initial search stage:\r\n",
      "  --toponly  : only search the top strand [default: search both strands]\r\n",
      "  --forward  : use the HMM forward algorithm for searching, not HMM viterbi\r\n",
      "  --global   : search with globally configured HMM [default: local]\r\n",
      "  --keep-int : keep intermediate files which are normally removed\r\n",
      "\r\n",
      "expert options for tuning the alignment stage:\r\n",
      "  --aln-one <s> : only align best-matching sequences to the CM named <s> in CM file\r\n",
      "  --no-trunc    : do not truncate seqs to HMM predicted start/end, align full seqs\r\n",
      "  --no-prob     : do not append posterior probabilities to alignments\r\n",
      "  --mxsize <f>  : increase mx size for cmalign to <f> Mb [default: 4096]\r\n"
     ]
    }
   ],
   "source": [
    "!ssu-align -h"
   ]
  },
  {
   "cell_type": "code",
   "execution_count": 2,
   "metadata": {
    "collapsed": false
   },
   "outputs": [],
   "source": [
    "#!ssu-align --dna --rfonly -b 25 -f ../../data/Seq_data/QIIME_maxee2/OTU_table/dna-sequences2.fasta ../../data/Seq_data/QIIME_maxee2/OTU_table/Trees2"
   ]
  },
  {
   "cell_type": "code",
   "execution_count": 4,
   "metadata": {
    "collapsed": false
   },
   "outputs": [],
   "source": [
    "#!ssu-align --dna --rfonly -b 25 -n \"bacteria\" -f ../../data/Seq_data/QIIME_maxee2/OTU_table/dna-sequences2.fasta ../../data/Seq_data/QIIME_maxee2/OTU_table/Trees3\n",
    "# Forcing the alignment into bacteria to keep archaea\n",
    "# Assuming the 27 archaea that worked in the full are legitimate,\n",
    "# We had 9092 seqs, meaning we lost 8 archaeal sequences\n",
    "# Maybe by changing \"minimum bit score of a surviving sequence\" we can keep them all?: -b 50 is default;\n",
    "# Try -b 25 and see how many align.\n",
    "# Now we get 9130, so some new sequences. Could figure out by contrasting with bacteria/archaea alone and \n",
    "# see how many bacteria adds.\n",
    "# 9134 total seqs with bact and arch - "
   ]
  },
  {
   "cell_type": "code",
   "execution_count": 7,
   "metadata": {
    "collapsed": false
   },
   "outputs": [
    {
     "name": "stdout",
     "output_type": "stream",
     "text": [
      "b367398df72954bd15e54b27bd6ce9a6\r\n",
      "0dd394ebcdc0e21ddbb2468da2b095a7\r\n",
      "af9ae08e091c85125f4068a91b406b85\r\n",
      "2fe1a40b82862d281f716f8460f57c9c\r\n",
      "1c7285b83f69d99203765b33f05b8294\r\n",
      "f48062d7eb8d293a94877133c6669d44\r\n",
      "7970c7d01e03ba810c2fb9554cacb20f\r\n",
      "86e405418626b70a2399222ea4a51742\r\n",
      "b96530ac03105da49560990eed0d7178\r\n",
      "9d6aa11ca2abb7b44c0871a07922a9d9\r\n"
     ]
    }
   ],
   "source": [
    "# I will look for the sequences that matched in the separate domain alignments,\n",
    "# But were not integrated in the multi-domain alignment.\n",
    "!head -40 ../../data/Seq_data/QIIME_maxee2/OTU_table/Trees3/Trees3.nomatch"
   ]
  },
  {
   "cell_type": "code",
   "execution_count": 27,
   "metadata": {
    "collapsed": false
   },
   "outputs": [],
   "source": [
    "!grep -w \"9d6aa11ca2abb7b44c0871a07922a9d9\" ../../data/Seq_data/QIIME_maxee2/OTU_table/Trees2/Trees2.archaea.hitlist\n",
    "# af9ae08e091c85125f4068a91b406b85\n",
    "# 2fe1a40b82862d281f716f8460f57c9c\n",
    "# 7970c7d01e03ba810c2fb9554cacb20f\n",
    "# 86e405418626b70a2399222ea4a51742\n",
    "\n",
    "# Four of the sequences that matched separate domains were excluded with the multi-domain alignment."
   ]
  },
  {
   "cell_type": "code",
   "execution_count": 7,
   "metadata": {
    "collapsed": false
   },
   "outputs": [
    {
     "name": "stdout",
     "output_type": "stream",
     "text": [
      "# ssu-align :: align SSU rRNA sequences\n",
      "# SSU-ALIGN 0.1 (June 2010)\n",
      "# Copyright (C) 2010 HHMI Janelia Farm Research Campus\n",
      "# Freely distributed under the GNU General Public License (GPLv3)\n",
      "# - - - - - - - - - - - - - - - - - - - - - - - - - - - - - - - - - - - -\n",
      "# command: ssu-align -f -n bacteria --dna --rfonly ../../data/Seq_data/QIIME_maxee2/OTU_table/dna-sequences2.fasta ../../data/Seq_data/QIIME_maxee2/OTU_table/Trees3\n",
      "# date:    Tue May 30 14:04:50 2017\n",
      "#\n",
      "# Validating input sequence file ... done.\n",
      "#\n",
      "# Stage 1: Determining SSU start/end positions and best-matching models...\n",
      "#\n",
      "# output file name         description                                \n",
      "# -----------------------  -------------------------------------------\n",
      "  Trees3.tab               locations/scores of hits defined by HMM(s)\n",
      "  Trees3.bacteria.hitlist  list of sequences to align with bacteria CM\n",
      "  Trees3.bacteria.fa          9092 sequences to align with bacteria CM\n",
      "#\n",
      "# Stage 2: Aligning each sequence to its best-matching model...\n",
      "#\n",
      "# output file name         description\n",
      "# -----------------------  ---------------------------------------\n",
      "  Trees3.bacteria.stk      bacteria alignment\n",
      "  Trees3.bacteria.cmalign  bacteria cmalign output\n",
      "  Trees3.bacteria.ifile    bacteria insert info\n",
      "  Trees3.scores            list of CM/HMM scores for each sequence\n",
      "  Trees3.nomatch           list of seqs that don't match any model\n",
      "#\n",
      "# Summary statistics:\n",
      "#\n",
      "# model or       number  fraction        average   average               \n",
      "# category      of seqs  of total         length  coverage    nucleotides\n",
      "# ------------  -------  --------  -------------  --------  -------------\n",
      "  *input*          9140    1.0000         247.21    1.0000        2259513\n",
      "#\n",
      "  bacteria         9092    0.9947         245.72    0.9945        2234066\n",
      "#\n",
      "  *all-models*     9092    0.9947         245.72    0.9945        2234066\n",
      "  *no-models*        48    0.0053         271.25    0.0000          13020\n",
      "#\n",
      "# Speed statistics:\n",
      "#\n",
      "# stage      num seqs  seq/sec  seq/sec/model    nucleotides    nt/sec\n",
      "# ---------  --------  -------  -------------  -------------  --------\n",
      "  search         9140   59.977         59.977        2259513   14826.9\n",
      "  alignment      9092   23.678         23.678        2234066    5818.2\n",
      "#\n",
      "#\n",
      "# List of executed commands saved in:     Trees3.ssu-align.log.\n",
      "# Output printed to the screen saved in:  Trees3.ssu-align.sum.\n",
      "#\n",
      "# All output files created in directory ./../../data/Seq_data/QIIME_maxee2/OTU_table/Trees3/\n",
      "#\n",
      "# CPU time (search):     00:02:32.39  (hh:mm:ss)\n",
      "# CPU time (alignment):  00:06:23.98  (hh:mm:ss)\n",
      "# CPU time (total):      00:08:57.12  (hh:mm:ss)\n",
      "#\n"
     ]
    }
   ],
   "source": [
    "!ssu-align --dna --rfonly -n \"bacteria\" -f ../../data/Seq_data/QIIME_maxee2/OTU_table/dna-sequences2.fasta ../../data/Seq_data/QIIME_maxee2/OTU_table/Trees3\n",
    "# Just going ahead with bacteria, using default settings\n",
    "# Note that ~8 archaeal sequences aren't aligning here.\n",
    "# Hopefully wouldn't have dramatic effects on unifrac distances."
   ]
  },
  {
   "cell_type": "code",
   "execution_count": 5,
   "metadata": {
    "collapsed": false
   },
   "outputs": [
    {
     "name": "stdout",
     "output_type": "stream",
     "text": [
      "# ssu-mask :: mask SSU rRNA alignments\n",
      "# SSU-ALIGN 0.1 (June 2010)\n",
      "# Copyright (C) 2010 HHMI Janelia Farm Research Campus\n",
      "# Freely distributed under the GNU General Public License (GPLv3)\n",
      "# - - - - - - - - - - - - - - - - - - - - - - - - - - - - - - - - - - - -\n",
      "# command: ssu-mask --afa ../../data/Seq_data/QIIME_maxee2/OTU_table/Trees3\n",
      "# date:    Tue May 30 14:04:03 2017\n",
      "ERROR, found 0 alignments created by ssu-align using the CM file /opt/virt_env/bin/ssu-align-0.1/ssu-align-0p1.cm\n",
      "in directory ../../data/Seq_data/QIIME_maxee2/OTU_table/Trees3.\n",
      "\n",
      "The following alignments were searched for, but none were found:\n",
      "\t../../data/Seq_data/QIIME_maxee2/OTU_table/Trees3/Trees3.archaea.stk\n",
      "\t../../data/Seq_data/QIIME_maxee2/OTU_table/Trees3/Trees3.bacteria.stk\n",
      "\t../../data/Seq_data/QIIME_maxee2/OTU_table/Trees3/Trees3.eukarya.stk\n"
     ]
    }
   ],
   "source": [
    "!ssu-mask --afa ../../data/Seq_data/QIIME_maxee2/OTU_table/Trees3\n",
    "#!ssu-mask --afa --pf 0.99 --pt 0.99 ../../data/Seq_data/QIIME_maxee2/OTU_table/Trees3\n",
    "# Output as fasta file -afa\n",
    "# Can add more stringent cutoffs for masking uncertain columns of alignment because of forced multi-domain alignment\n",
    "# https://www.biostars.org/p/11377/\n",
    "# Increasing this means fewer columns are included."
   ]
  },
  {
   "cell_type": "code",
   "execution_count": 33,
   "metadata": {
    "collapsed": false
   },
   "outputs": [
    {
     "name": "stdout",
     "output_type": "stream",
     "text": [
      "Trees3.bacteria.cmalign  Trees3.bacteria.mask.pdf Trees3.ssu-align.sum\r\n",
      "Trees3.bacteria.fa       Trees3.bacteria.mask.stk Trees3.ssu-mask.log\r\n",
      "Trees3.bacteria.hitlist  Trees3.bacteria.stk      Trees3.ssu-mask.sum\r\n",
      "Trees3.bacteria.ifile    Trees3.nomatch           Trees3.tab\r\n",
      "Trees3.bacteria.mask     Trees3.scores\r\n",
      "Trees3.bacteria.mask.afa Trees3.ssu-align.log\r\n"
     ]
    }
   ],
   "source": [
    "!ls ../../data/Seq_data/QIIME_maxee2/OTU_table/Trees3/"
   ]
  },
  {
   "cell_type": "code",
   "execution_count": 6,
   "metadata": {
    "collapsed": false
   },
   "outputs": [
    {
     "name": "stdout",
     "output_type": "stream",
     "text": [
      "cp: ../../data/Seq_data/QIIME_maxee2/OTU_table/Trees3/Trees3.bacteria.mask.afa: No such file or directory\r\n"
     ]
    }
   ],
   "source": [
    "!cp ../../data/Seq_data/QIIME_maxee2/OTU_table/Trees3/Trees3.bacteria.mask.afa ../../data/Seq_data/QIIME_maxee2/OTU_table/Trees3/fulltree2.fasta"
   ]
  },
  {
   "cell_type": "code",
   "execution_count": null,
   "metadata": {
    "collapsed": true
   },
   "outputs": [],
   "source": [
    "!make_phylogeny.py -i ../OTU_table/Trees/fulltree.fasta -o ../OTU_table/Trees/fulltree.tre -t fasttree"
   ]
  },
  {
   "cell_type": "code",
   "execution_count": 11,
   "metadata": {
    "collapsed": false
   },
   "outputs": [],
   "source": [
    "%%R\n",
    "# This produces an unrooted tree, which can result in variable Unifrac results when it picks random roots.\n",
    "root.by.outgroup = function(tree.unrooted) {\n",
    "  longest.edge = which.max(tree.unrooted$edge.length)\n",
    "  long.nodes = tree.unrooted$edge[longest.edge,]     #this should usually include one tip\n",
    "  new.outgroup = long.nodes[long.nodes < Ntip(tree.unrooted)]\n",
    "  tree.rooted = root(tree.unrooted, outgroup=new.outgroup, resolve.root=T)\n",
    "  tree.rooted\n",
    "}"
   ]
  },
  {
   "cell_type": "code",
   "execution_count": 12,
   "metadata": {
    "collapsed": false
   },
   "outputs": [
    {
     "name": "stdout",
     "output_type": "stream",
     "text": [
      "\n",
      "Error in tree.unrooted$edge.length : \n",
      "  $ operator is invalid for atomic vectors\n"
     ]
    },
    {
     "name": "stderr",
     "output_type": "stream",
     "text": [
      "/Users/Thea/anaconda3/lib/python3.6/site-packages/rpy2/rinterface/__init__.py:186: RRuntimeWarning: Error in tree.unrooted$edge.length : \n",
      "  $ operator is invalid for atomic vectors\n",
      "\n",
      "  warnings.warn(x, RRuntimeWarning)\n"
     ]
    }
   ],
   "source": [
    "%%R\n",
    "newtree = root.by.outgroup(\"../OTU_table/Trees/fulltree.tre\")"
   ]
  },
  {
   "cell_type": "code",
   "execution_count": null,
   "metadata": {
    "collapsed": true
   },
   "outputs": [],
   "source": []
  }
 ],
 "metadata": {
  "kernelspec": {
   "display_name": "Python 3",
   "language": "python",
   "name": "python3"
  },
  "language_info": {
   "codemirror_mode": {
    "name": "ipython",
    "version": 3
   },
   "file_extension": ".py",
   "mimetype": "text/x-python",
   "name": "python",
   "nbconvert_exporter": "python",
   "pygments_lexer": "ipython3",
   "version": "3.6.0"
  }
 },
 "nbformat": 4,
 "nbformat_minor": 2
}
