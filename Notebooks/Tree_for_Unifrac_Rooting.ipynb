{
 "cells": [
  {
   "cell_type": "code",
   "execution_count": 30,
   "metadata": {
    "collapsed": false
   },
   "outputs": [
    {
     "name": "stderr",
     "output_type": "stream",
     "text": [
      "Warning message:\n",
      "“package ‘diversitree’ was built under R version 3.3.2”"
     ]
    }
   ],
   "source": [
    "library(ape)\n",
    "library(phyloseq)\n",
    "library(diversitree)"
   ]
  },
  {
   "cell_type": "code",
   "execution_count": 29,
   "metadata": {
    "collapsed": false
   },
   "outputs": [
    {
     "name": "stderr",
     "output_type": "stream",
     "text": [
      "also installing the dependencies ‘deSolve’, ‘subplex’\n",
      "\n"
     ]
    },
    {
     "name": "stdout",
     "output_type": "stream",
     "text": [
      "\n",
      "The downloaded binary packages are in\n",
      "\t/var/folders/d2/qqsv2qxd5fjf4k455pzytwgh0000gn/T//RtmpC5LqUl/downloaded_packages\n"
     ]
    }
   ],
   "source": [
    "#install.packages(\"diversitree\")"
   ]
  },
  {
   "cell_type": "code",
   "execution_count": 1,
   "metadata": {
    "collapsed": true
   },
   "outputs": [],
   "source": [
    "# Unifrac will randomly root the tree\n",
    "# This is a bit of an issue because it can produce different results every time\n",
    "\n",
    "# https://github.com/joey711/phyloseq/issues/597\n",
    "root.by.outgroup <- function(tree.unrooted) {\n",
    "  longest.edge <- which.max(tree.unrooted$edge.length)\n",
    "  long.nodes <- tree.unrooted$edge[longest.edge,]     #this should usually include one tip\n",
    "  new.outgroup <- long.nodes[long.nodes < Ntip(tree.unrooted)]\n",
    "  tree.rooted <- root(tree.unrooted, outgroup=new.outgroup, resolve.root=T)\n",
    "  tree.rooted\n",
    "}"
   ]
  },
  {
   "cell_type": "code",
   "execution_count": 116,
   "metadata": {
    "collapsed": false
   },
   "outputs": [],
   "source": [
    "oldtree = read.tree(\"../../data/Seq_data/QIIME_maxee2/OTU_table/Trees3/fulltree2.tre\")\n",
    "#newtree = root.by.outgroup(oldtree)\n",
    "newtree = root(oldtree,outgroup=\"bba718e71298eff256a7ca07bc7d4926\",resolve.root=TRUE)\n",
    "# Using an archea as root"
   ]
  },
  {
   "cell_type": "code",
   "execution_count": 118,
   "metadata": {
    "collapsed": true
   },
   "outputs": [],
   "source": [
    "write.tree(newtree, file=\"../../data/Seq_data/QIIME_maxee2/OTU_table/Trees3/fulltree2.rooted.tre\")"
   ]
  },
  {
   "cell_type": "code",
   "execution_count": 117,
   "metadata": {
    "collapsed": false
   },
   "outputs": [
    {
     "data": {
      "text/html": [
       "TRUE"
      ],
      "text/latex": [
       "TRUE"
      ],
      "text/markdown": [
       "TRUE"
      ],
      "text/plain": [
       "[1] TRUE"
      ]
     },
     "metadata": {},
     "output_type": "display_data"
    }
   ],
   "source": [
    "is.rooted(newtree)"
   ]
  },
  {
   "cell_type": "code",
   "execution_count": null,
   "metadata": {
    "collapsed": true
   },
   "outputs": [],
   "source": []
  }
 ],
 "metadata": {
  "kernelspec": {
   "display_name": "R",
   "language": "R",
   "name": "ir"
  },
  "language_info": {
   "codemirror_mode": "r",
   "file_extension": ".r",
   "mimetype": "text/x-r-source",
   "name": "R",
   "pygments_lexer": "r",
   "version": "3.3.1"
  }
 },
 "nbformat": 4,
 "nbformat_minor": 2
}
