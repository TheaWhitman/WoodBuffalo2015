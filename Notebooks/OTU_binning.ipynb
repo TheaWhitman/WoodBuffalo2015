{
 "cells": [
  {
   "cell_type": "markdown",
   "metadata": {},
   "source": [
    "## This notebook takes the QC'd fasta file with all seqs and clusters it to OTUs"
   ]
  },
  {
   "cell_type": "code",
   "execution_count": 13,
   "metadata": {
    "collapsed": false
   },
   "outputs": [],
   "source": [
    "# Pulling out the sample identifier.\n",
    "# It is adding a portion to the finalQC file that has the barcode label.\n",
    "# Then we can use this later\n",
    "# Now we will see how these reads map to the defined centroids (after removing EuK, etc.)\n",
    "# Basically, we cut, cut, refined our fasta to make our OTU centroids.\n",
    "# THEN, we went back to our original QC'd total fasta file and will throw it all against these nicely defined seeds.\n",
    "# Anything that doesn't match, we won't keep.\n",
    "!awk -F\"_\" \\\n",
    "'BEGIN{OFS=\";\"}{ if ( substr($1,0,1) == \">\"){ print $0 \";barcodelabel=\" $11 } else { print $0 } }' \\\n",
    "../data/Seq_data/QCSeqs/16S_QC.fasta | \\\n",
    "sed 's/;>//' > ../data/Seq_data/QCSeqs/16S_QC.usearch.fasta"
   ]
  },
  {
   "cell_type": "code",
   "execution_count": 14,
   "metadata": {
    "collapsed": false
   },
   "outputs": [
    {
     "name": "stdout",
     "output_type": "stream",
     "text": [
      ">HWI-M04026_146_000000000-B58PG_1_1101_13055_1749_1_N_0_TGCTCGTAGATCGTGT;barcodelabel=TGCTCGTAGATCGTGT\r\n",
      "CGTAGGGGGCAAGCGTTGTCCGGAATCATTGGGCGTAAAGAGCGTGTAGGCGGCCCGATAAGTCCGCTGTGAAAGTCCAGGGCTCAACTCTGGAATGCCGGTGGATACTGTCGGGCTCGAATCCGGAAGAGGTGAGTGGAATTCCTGGTGTAGCGGTGAAATGCGCAGATATCAGGAGGAACACCAATGGCGAAGGCAGCTCACTGGGACGGTATTGACGCTGAGACGCGAAAGCGTGGGGAGCAAACA\r\n",
      ">HWI-M04026_146_000000000-B58PG_1_1106_17574_21259_1_N_0_CGTAGCGAACGACGTG;barcodelabel=CGTAGCGAACGACGTG\r\n",
      "CGTAGGGGGCAAGCGTTGTCCGGAATCATTGGGCGTAAAGAGCGTGTAGGCGGCCCGATAAGTCCGCTGTGAAAGTCCAGGGCTCAACTCTGGAATGCCGGTGGATACTGTCGGGCTCGAATCCGGAAGAGGTGAGTGGAATTCCTGGTGTAGCGGTGAAATGCGCAGATATCAGGAGGAACACCAATGGCGAAGGCAGCTCACTGGGACGGTATTGACGCTGAGACGCGAAAGCGTGGGGAGCAAACA\r\n",
      ">HWI-M04026_146_000000000-B58PG_1_2104_27344_16447_1_N_0_ACGTGCGCGACACTGA;barcodelabel=ACGTGCGCGACACTGA\r\n",
      "CGTAGGGGGCAAGCGTTGTCCGGAATCATTGGGCGTAAAGAGCGTGTAGGCGGCCCGATAAGTCCGCTGTGAAAGTCCAGGGCTCAACTCTGGAATGCCGGTGGATACTGTCGGGCTCGAATCCGGAAGAGGTGAGTGGAATTCCTGGTGTAGCGGTGAAATGCGCAGATATCAGGAGGAACACCAATGGCGAAGGCAGCTCACTGGGACGGTATTGACGCTGAGACGCGAAAGCGTGGGGAGCAAACA\r\n",
      ">HWI-M04026_146_000000000-B58PG_1_1101_17688_1769_1_N_0_TGCTCGTAGATCGTGT;barcodelabel=TGCTCGTAGATCGTGT\r\n",
      "CGTAGGGTGCGAGCGTTGTCCGGAATTACTGGGCGTAAAGAGCTCGTAGGTGGTTTGTCGCGTTGTTCGTGAAAACCGGAGGCTCAACCTCTGGCGTGCGGGCGATACGGGCAGACTTGAGTACTGCAGGGGAGACTGGAATTCCTGGTGTAGCGGTGGAATGCGCAGATATCAGGAGGAACACCGGTGGCGAAGGCGGGTCTCTGGGCAGTAACTGACGCTGAGGAGCGAAAGCGTGGGGAGCGAACA\r\n",
      ">HWI-M04026_146_000000000-B58PG_1_1101_20588_3508_1_N_0_TGCTCGTAGATCGTGT;barcodelabel=TGCTCGTAGATCGTGT\r\n",
      "CGTAGGGTGCGAGCGTTGTCCGGAATTACTGGGCGTAAAGAGCTCGTAGGTGGTTTGTCGCGTTGTTCGTGAAAACCGGAGGCTCAACCTCTGGCGTGCGGGCGATACGGGCAGACTTGAGTACTGCAGGGGAGACTGGAATTCCTGGTGTAGCGGTGGAATGCGCAGATATCAGGAGGAACACCGGTGGCGAAGGCGGGTCTCTGGGCAGTAACTGACGCTGAGGAGCGAAAGCGTGGGGAGCGAACA\r\n"
     ]
    }
   ],
   "source": [
    "!head ../data/Seq_data/QCSeqs/16S_QC.usearch.fasta"
   ]
  },
  {
   "cell_type": "code",
   "execution_count": 15,
   "metadata": {
    "collapsed": false
   },
   "outputs": [
    {
     "name": "stdout",
     "output_type": "stream",
     "text": [
      "usearch v8.0.1623_i86osx32, 4.0Gb RAM (17.2Gb total), 4 cores\n",
      "(C) Copyright 2013-15 Robert C. Edgar, all rights reserved.\n",
      "http://drive5.com/usearch\n",
      "\n",
      "Licensed to: tlw59@cornell.edu\n",
      "\n",
      "00:05 585Mb  100.0% Reading ../data/Seq_data/QCSeqs/16S_QC.usearch.fasta\n",
      "00:08 608Mb 1379867 seqs, 1926 uniques, 650 singletons (33.7%)          \n",
      "00:08 608Mb Min size 1, median 7, max 154896, avg 716.44\n",
      "00:08 608Mb  100.0% Writing ../data/Seq_data/QCSeqs/16S_QC.usearch.unique.fasta\n"
     ]
    }
   ],
   "source": [
    "!usearch -derep_fulllength ../data/Seq_data/QCSeqs/16S_QC.usearch.fasta -fastaout ../data/Seq_data/QCSeqs/16S_QC.usearch.unique.fasta -sizeout -threads 4"
   ]
  },
  {
   "cell_type": "code",
   "execution_count": 16,
   "metadata": {
    "collapsed": false
   },
   "outputs": [
    {
     "name": "stdout",
     "output_type": "stream",
     "text": [
      ">HWI-M04026_146_000000000-B58PG_1_1101_25849_8984_1_N_0_TGCTCGTAGATCGTGT;barcodelabel=TGCTCGTAGATCGTGT;size=154896;\r\n",
      "CGTAGGGCGCAAGCGTTATCCGGAATTATTGGGCGTAAAGAGCTCGTAGGCGGTTTGTCGCGTCTGCCGTGAAAGTCCGG\r\n",
      "GGCTCAACTCCGGATCTGCGGTGGGTACGGGCAGACTAGAGTGATGTAGGGGAGACTGGAATTCCTGGTGTAGCGGTGAA\r\n",
      "ATGCGCAGATATCAGGAGGAACACCGATGGCGAAGGCAGGTCTCTGGGCATTAACTGACGCTGAGGAGCGAAAGCATGGG\r\n",
      "GAGCGAACA\r\n",
      ">HWI-M04026_146_000000000-B58PG_1_1101_8837_4649_1_N_0_TGCTCGTAGATCGTGT;barcodelabel=TGCTCGTAGATCGTGT;size=110072;\r\n",
      "CGAAGGGGGCTAGCGTTGCTCGGAATCACTGGGCGTAAAGGGTGCGTAGGCGGGTCTTTAAGTCAGGGGTGAAATCCTGG\r\n",
      "AGCTCAACTCCAGAACTGCCTTTGATACTGAGGATCTTGAGTTCGGGAGAGGTGAGTGGAACTGCGAGTGTAGAGGTGAA\r\n",
      "ATTCGTAGATATTCGCAAGAACACCAGTGGCGAAGGCGGCTCACTGGCCCGATACTGACGCTGAGGCACGAAAGCGTGGG\r\n",
      "GAGCAAACA\r\n"
     ]
    }
   ],
   "source": [
    "!head ../data/Seq_data/QCSeqs/16S_QC.usearch.unique.fasta"
   ]
  },
  {
   "cell_type": "code",
   "execution_count": 17,
   "metadata": {
    "collapsed": false
   },
   "outputs": [
    {
     "name": "stdout",
     "output_type": "stream",
     "text": [
      "usearch v8.0.1623_i86osx32, 4.0Gb RAM (17.2Gb total), 4 cores\n",
      "(C) Copyright 2013-15 Robert C. Edgar, all rights reserved.\n",
      "http://drive5.com/usearch\n",
      "\n",
      "Licensed to: tlw59@cornell.edu\n",
      "\n",
      "00:00 2.9Mb  100.0% Reading ../data/Seq_data/QCSeqs/16S_QC.usearch.unique.fasta\n",
      "00:00 2.2Mb Getting sizes                                                      \n",
      "00:00 2.2Mb Sorting 1276 sequences\n",
      "00:00 2.2Mb  100.0% Writing output\n"
     ]
    }
   ],
   "source": [
    "# Sequences are sorted by size\n",
    "# We are excluding the singletons here with minsize =2\n",
    "!usearch -sortbysize ../data/Seq_data/QCSeqs/16S_QC.usearch.unique.fasta -fastaout ../data/Seq_data/QCSeqs/16S_QC.usearch.unique.sorted.fasta -minsize 2"
   ]
  },
  {
   "cell_type": "code",
   "execution_count": 20,
   "metadata": {
    "collapsed": false
   },
   "outputs": [
    {
     "name": "stdout",
     "output_type": "stream",
     "text": [
      "usearch v8.0.1623_i86osx32, 4.0Gb RAM (17.2Gb total), 4 cores\n",
      "(C) Copyright 2013-15 Robert C. Edgar, all rights reserved.\n",
      "http://drive5.com/usearch\n",
      "\n",
      "Licensed to: tlw59@cornell.edu\n",
      "\n",
      "00:01 6.3Mb  100.0% 514 OTUs, 103 chimeras (8.1%)\n"
     ]
    }
   ],
   "source": [
    "# Here we are just creating the centroids, or \"seeds\" for future clustering\n",
    "# Default is 97% minimum ID - not recommended to use more than 97%.\n",
    "\n",
    "!usearch -cluster_otus ../data/Seq_data/QCSeqs/16S_QC.usearch.unique.sorted.fasta -otus ../data/Seq_data/QCSeqs/otus.fasta"
   ]
  },
  {
   "cell_type": "code",
   "execution_count": 52,
   "metadata": {
    "collapsed": false
   },
   "outputs": [
    {
     "name": "stdout",
     "output_type": "stream",
     "text": [
      "usearch v9.2.64_i86osx32, 4.0Gb RAM (17.2Gb total), 4 cores\n",
      "(C) Copyright 2013-16 Robert C. Edgar, all rights reserved.\n",
      "http://drive5.com/usearch\n",
      "\n",
      "License: twhitman@wisc.edu\n",
      "\n",
      "00:00 1.9Mb   100.0% Reading ../data/Seq_data/QCSeqs/otus.fasta\n",
      "00:00 1.7Mb   100.0% Masking (fastnucleo)                      \n",
      "00:00 2.6Mb   100.0% Word stats          \n",
      "00:00 2.6Mb   100.0% Alloc rows\n",
      "00:00 3.1Mb   100.0% Build index\n",
      "00:29 40Mb    100.0% Searching 16S_QC.usearch.fasta, 99.5% matched \n",
      "1373016 / 1379867 mapped to OTUs (99.5%)                          \n",
      "00:29 40Mb   Writing ../data/Seq_data/QCSeqs/otu_table.txt\n",
      "00:29 40Mb   Writing ../data/Seq_data/QCSeqs/otu_table.txt ...done.\n",
      "00:29 40Mb   Writing ../data/Seq_data/QCSeqs/otu_table.biom\n",
      "00:29 40Mb   Writing ../data/Seq_data/QCSeqs/otu_table.biom ...done.\n"
     ]
    }
   ],
   "source": [
    "# This is where the actual OTUs are being assigned. We choose 97% sequence ID threshold here.\n",
    "# This might take a while - Depending ont he clustering algorithm, like pairwise... \n",
    "# it would take, like, days on the same number of processors.\n",
    "# This is why usearch (centroid-based) is so much better\n",
    "# But is it more biologically relevant? ... maybe, maybe not.\n",
    "# Edgar is showing it's not that bad.\n",
    "\n",
    "# We take our total QC data\n",
    "# We compare it to the otusn.pick.fasta database we made above\n",
    "# We produce a readmap.uc file which tells us how the reads from our finalQC file map to the otusn seed database.\n",
    "\n",
    "!usearch9 -usearch_global ../data/Seq_data/QCSeqs/16S_QC.usearch.fasta -db ../data/Seq_data/QCSeqs/otus.fasta \\\n",
    "-strand plus -id 0.97 -otutabout ../data/Seq_data/QCSeqs/otu_table.txt -biomout ../data/Seq_data/QCSeqs/otu_table.biom -threads 4"
   ]
  },
  {
   "cell_type": "code",
   "execution_count": 58,
   "metadata": {
    "collapsed": false
   },
   "outputs": [],
   "source": [
    "# Issues with biom table formatting\n",
    "!if [ -f ../data/Seq_data/QCSeqs/otu_table.biom ]; then rm ../data/Seq_data/QCSeqs/otu_table.biom; fi #This is to mitigate a biom bug\n",
    "!biom convert -i ../data/Seq_data/QCSeqs/otu_table.txt -o ../data/Seq_data/QCSeqs/otu_table.biom --table-type=\"OTU table\" --to-json\n",
    "!biom summarize-table -i ../data/Seq_data/QCSeqs/otu_table.biom -o ../data/Seq_data/QCSeqs/otu_table.summary"
   ]
  },
  {
   "cell_type": "code",
   "execution_count": 59,
   "metadata": {
    "collapsed": false
   },
   "outputs": [
    {
     "name": "stdout",
     "output_type": "stream",
     "text": [
      "Num samples: 238\r\n",
      "Num observations: 514\r\n",
      "Total count: 1373016\r\n",
      "Table density (fraction of non-zero values): 0.233\r\n",
      "\r\n",
      "Counts/sample summary:\r\n",
      " Min: 1.0\r\n",
      " Max: 56825.0\r\n",
      " Median: 3684.500\r\n",
      " Mean: 5768.975\r\n",
      " Std. dev.: 7189.242\r\n",
      " Sample Metadata Categories: None provided\r\n",
      " Observation Metadata Categories: None provided\r\n",
      "\r\n",
      "Counts/sample detail:\r\n",
      " GTCTATGATCGACGAG: 1.0\r\n",
      " AACGCTGATGCGTACG: 1.0\r\n",
      " CGTAGCGAATCGTACG: 2.0\r\n",
      " AACGCTGACGTTACTA: 2.0\r\n",
      " ACTCACTGGACACTGA: 6.0\r\n",
      " TAGTCTCCGGATATCT: 7.0\r\n",
      " TAGTCTCCCTACTATA: 8.0\r\n",
      " GTCTGCTACTGCGTGT: 34.0\r\n",
      " GATCTACGCGTTACTA: 75.0\r\n",
      " ATAGTACCGGATATCT: 116.0\r\n",
      " GATCTACGTAGCGAGT: 118.0\r\n",
      " GTCTGCTATACGAGAC: 123.0\r\n",
      " GTCTATGATCATCGAG: 211.0\r\n",
      " CGAAGTATACTATCTG: 494.0\r\n",
      " TATAGCGATGCGTACG: 539.0\r\n",
      " ACGCTACTACGTCTCG: 596.0\r\n",
      " ACTACGACCGTCGCTA: 615.0\r\n",
      " GTAACGAGCGTGAGTG: 641.0\r\n",
      " GTCTATGAGACACTGA: 659.0\r\n",
      " GTAACGAGCTAGAGCT: 691.0\r\n",
      " ACGTGCGCACGTCTCG: 738.0\r\n",
      " CTCGACTTTAGTGTAG: 740.0\r\n",
      " ACGTGCGCCGTGAGTG: 798.0\r\n",
      " TATAGCGAGGATATCT: 855.0\r\n",
      " ACGCTACTGCTCTAGT: 907.0\r\n",
      " GCGTATACCTACTATA: 952.0\r\n",
      " CGAGCGACATATACAC: 954.0\r\n",
      " GTCTATGAGCTCTAGT: 984.0\r\n",
      " GTCTATGAACGTCTCG: 1056.0\r\n",
      " GTAACGAGTCATCGAG: 1091.0\r\n",
      " GATCTACGCTGCGTGT: 1091.0\r\n",
      " TATAGCGAGACACTGA: 1157.0\r\n",
      " TGCTCGTACTACTATA: 1157.0\r\n",
      " TAGTCTCCACGACGTG: 1163.0\r\n",
      " GTCTGCTATCATCGAG: 1198.0\r\n",
      " ACTCACTGTCGACGAG: 1219.0\r\n",
      " CTGCGTAGTGCGTACG: 1225.0\r\n",
      " ACGCTACTTCGACGAG: 1230.0\r\n",
      " ACGTGCGCGGATATCT: 1304.0\r\n",
      " TGCTCGTAACGACGTG: 1312.0\r\n",
      " TGAGTACGGTCAGATA: 1340.0\r\n",
      " ATAGTACCGACACCGT: 1435.0\r\n",
      " CTCGACTTGATCGTGT: 1464.0\r\n",
      " CTCGACTTATCGTACG: 1477.0\r\n",
      " ACGCTACTCGTGAGTG: 1496.0\r\n",
      " ACGCTACTTCATCGAG: 1511.0\r\n",
      " CGAGAGTTTACGAGAC: 1566.0\r\n",
      " GATCTACGTCATCGAG: 1598.0\r\n",
      " TGCTCGTAGACACCGT: 1599.0\r\n",
      " TAGTCTCCGTCAGATA: 1741.0\r\n",
      " ACTCACTGGATCGTGT: 1772.0\r\n",
      " AACGCTGAACTATCTG: 1775.0\r\n",
      " GTAACGAGACGTCTCG: 1788.0\r\n",
      " CGAGAGTTCGTCGCTA: 1800.0\r\n",
      " CGTAGCGAAGAGTCAC: 1810.0\r\n",
      " TAGCAGCTACTATCTG: 1851.0\r\n",
      " CTGCGTAGACGACGTG: 1872.0\r\n",
      " TGCTCGTAGTCAGATA: 1880.0\r\n",
      " GACATAGTCTGCGTGT: 1934.0\r\n",
      " CGAAGTATGTCAGATA: 1941.0\r\n",
      " GTAACGAGTACGAGAC: 1976.0\r\n",
      " TGAGTACGTCGACGAG: 1997.0\r\n",
      " TCTCTATGACTATCTG: 2019.0\r\n",
      " CTCGACTTTGCGTACG: 2034.0\r\n",
      " CGAAGTATATCGTACG: 2035.0\r\n",
      " GTCTGCTAAGAGTCAC: 2037.0\r\n",
      " CGTAGCGACTGCGTGT: 2041.0\r\n",
      " CTGCGTAGATCGTACG: 2048.0\r\n",
      " GTAACGAGGCTCTAGT: 2055.0\r\n",
      " GTCTATGACGTGAGTG: 2080.0\r\n",
      " GCGTATACTGCGTACG: 2120.0\r\n",
      " TAGCAGCTACGACGTG: 2147.0\r\n",
      " TCTCTATGCGTCGCTA: 2240.0\r\n",
      " CTGCGTAGGATCGTGT: 2276.0\r\n",
      " CGAGAGTTAGAGTCAC: 2279.0\r\n",
      " GATCTACGCGTCGCTA: 2301.0\r\n",
      " AACGCTGACTACTATA: 2303.0\r\n",
      " TCTCTATGTAGCGAGT: 2319.0\r\n",
      " CTGCGTAGCGTGAGTG: 2342.0\r\n",
      " ACGCTACTCTAGAGCT: 2357.0\r\n",
      " GATCTACGTACGAGAC: 2383.0\r\n",
      " TCTCTATGATCGTACG: 2391.0\r\n",
      " TAGTCTCCACTATCTG: 2459.0\r\n",
      " CTCGACTTGACACCGT: 2470.0\r\n",
      " CGTAGCGACGTCGCTA: 2513.0\r\n",
      " ATAGTACCGATCGTGT: 2518.0\r\n",
      " GTCTATGATACGAGAC: 2557.0\r\n",
      " CGAAGTATTGCGTACG: 2602.0\r\n",
      " CGAGCGACAGAGTCAC: 2649.0\r\n",
      " CGTAGCGAACGACGTG: 2666.0\r\n",
      " TAGTCTCCGACACCGT: 2678.0\r\n",
      " TAGCAGCTATATACAC: 2736.0\r\n",
      " ATAGTACCGACACTGA: 2775.0\r\n",
      " ACGTGCGCCTAGAGCT: 2796.0\r\n",
      " ACTACGACCTGCGTGT: 2804.0\r\n",
      " GCGTATACGCTCTAGT: 2933.0\r\n",
      " TAGCAGCTATCGTACG: 2934.0\r\n",
      " GTCTATGACGTCGCTA: 3016.0\r\n",
      " GACATAGTTACGAGAC: 3021.0\r\n",
      " CGAGAGTTCTGCGTGT: 3060.0\r\n",
      " ATAGTACCCGTGAGTG: 3088.0\r\n",
      " ACGTGCGCGACACTGA: 3096.0\r\n",
      " ACTACGACATATACAC: 3105.0\r\n",
      " CTCGACTTTCGACGAG: 3131.0\r\n",
      " ACTACGACCTACTATA: 3167.0\r\n",
      " CGAGCGACACGACGTG: 3173.0\r\n",
      " TGAGTACGTGCGTACG: 3200.0\r\n",
      " TAGTCTCCTAGTGTAG: 3222.0\r\n",
      " TGAGTACGGATCGTGT: 3226.0\r\n",
      " ACTACGACCTAGAGCT: 3254.0\r\n",
      " CGTAGCGACGTTACTA: 3325.0\r\n",
      " TAGCAGCTGACACCGT: 3348.0\r\n",
      " TATAGCGATCGACGAG: 3395.0\r\n",
      " GACATAGTCTAGAGCT: 3400.0\r\n",
      " CTCGACTTACGTCTCG: 3435.0\r\n",
      " CGAAGTATGACACCGT: 3507.0\r\n",
      " GCGTATACGACACCGT: 3558.0\r\n",
      " ACTACGACACTATCTG: 3577.0\r\n",
      " CGTAGCGATAGCGAGT: 3641.0\r\n",
      " ACTCACTGACGTCTCG: 3728.0\r\n",
      " GCGTATACGATCGTGT: 3765.0\r\n",
      " GACATAGTTAGCGAGT: 3836.0\r\n",
      " ACGCTACTTACGAGAC: 3854.0\r\n",
      " AACGCTGATAGCGAGT: 3890.0\r\n",
      " CTCGACTTGGATATCT: 3891.0\r\n",
      " CTGCGTAGGACACCGT: 3906.0\r\n",
      " GTCTGCTAACGTCTCG: 3909.0\r\n",
      " GCGTATACGTCAGATA: 3940.0\r\n",
      " CGAGCGACCGTTACTA: 3952.0\r\n",
      " ACGTGCGCCTGCGTGT: 3963.0\r\n",
      " AACGCTGAGACACCGT: 3984.0\r\n",
      " TGCTCGTAATCGTACG: 4086.0\r\n",
      " ACTACGACCGTTACTA: 4091.0\r\n",
      " ATAGTACCTCGACGAG: 4215.0\r\n",
      " TGAGTACGTCATCGAG: 4224.0\r\n",
      " TCTCTATGATATACAC: 4227.0\r\n",
      " CGTAGCGAATATACAC: 4276.0\r\n",
      " TGAGTACGGACACTGA: 4331.0\r\n",
      " TGAGTACGGGATATCT: 4373.0\r\n",
      " AACGCTGAATCGTACG: 4392.0\r\n",
      " TGCTCGTATGCGTACG: 4414.0\r\n",
      " GTAACGAGATATACAC: 4415.0\r\n",
      " ACTCACTGTACGAGAC: 4542.0\r\n",
      " CGAAGTATGATCGTGT: 4610.0\r\n",
      " ACGCTACTCGTCGCTA: 4765.0\r\n",
      " TCTCTATGCTACTATA: 4838.0\r\n",
      " CTCGACTTGCTCTAGT: 4850.0\r\n",
      " TATAGCGACTAGAGCT: 4893.0\r\n",
      " GCGTATACTCGACGAG: 4929.0\r\n",
      " ACGCTACTCTGCGTGT: 4957.0\r\n",
      " TAGTCTCCCGTTACTA: 4965.0\r\n",
      " TCTCTATGACGACGTG: 5036.0\r\n",
      " CGAAGTATCTACTATA: 5053.0\r\n",
      " CTGCGTAGTAGTGTAG: 5105.0\r\n",
      " TGAGTACGCGTGAGTG: 5169.0\r\n",
      " ACGTGCGCCGTCGCTA: 5267.0\r\n",
      " CGAAGTATTCGACGAG: 5280.0\r\n",
      " GTCTATGACTAGAGCT: 5295.0\r\n",
      " TAGTCTCCATCGTACG: 5426.0\r\n",
      " ACGTGCGCTACGAGAC: 5449.0\r\n",
      " GTAACGAGCTGCGTGT: 5506.0\r\n",
      " GCGTATACCGTGAGTG: 5674.0\r\n",
      " ATAGTACCACGTCTCG: 5755.0\r\n",
      " GATCTACGATATACAC: 5764.0\r\n",
      " TAGCAGCTCGTTACTA: 5773.0\r\n",
      " CGTAGCGACTACTATA: 5801.0\r\n",
      " GTAACGAGCGTCGCTA: 5846.0\r\n",
      " ACGTGCGCTCGACGAG: 5885.0\r\n",
      " TCTCTATGTAGTGTAG: 5945.0\r\n",
      " ACTACGACAGAGTCAC: 5952.0\r\n",
      " TATAGCGAGCTCTAGT: 6000.0\r\n",
      " CTGCGTAGCTACTATA: 6016.0\r\n",
      " ACGTGCGCTCATCGAG: 6088.0\r\n",
      " TAGCAGCTTGCGTACG: 6220.0\r\n",
      " ATAGTACCGCTCTAGT: 6269.0\r\n",
      " GACATAGTATATACAC: 6298.0\r\n",
      " TATAGCGATCATCGAG: 6407.0\r\n",
      " TCTCTATGCGTTACTA: 6478.0\r\n",
      " CGTAGCGAACTATCTG: 6515.0\r\n",
      " GTCTGCTACGTCGCTA: 6604.0\r\n",
      " CGAGAGTTACGACGTG: 6795.0\r\n",
      " GACATAGTTCATCGAG: 6816.0\r\n",
      " CGAGCGACCTACTATA: 6925.0\r\n",
      " GCGTATACGACACTGA: 7155.0\r\n",
      " ATAGTACCTGCGTACG: 7285.0\r\n",
      " GTCTATGAAGAGTCAC: 7706.0\r\n",
      " GTCTGCTATAGCGAGT: 7715.0\r\n",
      " AACGCTGAATATACAC: 7737.0\r\n",
      " AACGCTGAGTCAGATA: 7753.0\r\n",
      " CTGCGTAGGGATATCT: 7887.0\r\n",
      " CGAGCGACATCGTACG: 8076.0\r\n",
      " CGAGCGACGTCAGATA: 8135.0\r\n",
      " GTCTGCTACGTTACTA: 8165.0\r\n",
      " GACATAGTAGAGTCAC: 8834.0\r\n",
      " CGAAGTATGACACTGA: 8884.0\r\n",
      " TGCTCGTAACTATCTG: 8980.0\r\n",
      " ACGCTACTTAGCGAGT: 9193.0\r\n",
      " CGAGAGTTACTATCTG: 9212.0\r\n",
      " TAGTCTCCGATCGTGT: 9720.0\r\n",
      " GTCTATGACTGCGTGT: 9922.0\r\n",
      " TATAGCGAGATCGTGT: 10088.0\r\n",
      " ACTACGACTACGAGAC: 10245.0\r\n",
      " GATCTACGCTAGAGCT: 10303.0\r\n",
      " CGAAGTATACGACGTG: 10385.0\r\n",
      " TATAGCGAACGTCTCG: 10640.0\r\n",
      " CGAGCGACTAGTGTAG: 10720.0\r\n",
      " TGCTCGTATAGTGTAG: 10913.0\r\n",
      " CTCGACTTGACACTGA: 10932.0\r\n",
      " GTAACGAGAGAGTCAC: 10948.0\r\n",
      " CGAGAGTTCGTTACTA: 10963.0\r\n",
      " TGAGTACGACGTCTCG: 11395.0\r\n",
      " GTCTGCTACTAGAGCT: 11734.0\r\n",
      " ACTCACTGGGATATCT: 11927.0\r\n",
      " CGAGAGTTATATACAC: 12025.0\r\n",
      " TGCTCGTAGATCGTGT: 12347.0\r\n",
      " CGAGCGACGACACCGT: 12515.0\r\n",
      " TGCTCGTAGACACTGA: 12553.0\r\n",
      " TATAGCGATACGAGAC: 12635.0\r\n",
      " GCGTATACGGATATCT: 13065.0\r\n",
      " TCTCTATGGTCAGATA: 13166.0\r\n",
      " CGAGCGACACTATCTG: 14604.0\r\n",
      " CTGCGTAGGACACTGA: 14684.0\r\n",
      " ACTCACTGTCATCGAG: 15160.0\r\n",
      " ACTCACTGCTAGAGCT: 15580.0\r\n",
      " TAGCAGCTTAGTGTAG: 15847.0\r\n",
      " ATAGTACCTCATCGAG: 16401.0\r\n",
      " CGAAGTATGGATATCT: 19137.0\r\n",
      " CGAGAGTTTAGCGAGT: 21401.0\r\n",
      " CTGCGTAGTCGACGAG: 21454.0\r\n",
      " GACATAGTCGTCGCTA: 22033.0\r\n",
      " ACTCACTGGCTCTAGT: 23332.0\r\n",
      " TAGTCTCCTGCGTACG: 25149.0\r\n",
      " CGTAGCGATAGTGTAG: 26650.0\r\n",
      " AACGCTGAACGACGTG: 27118.0\r\n",
      " TAGCAGCTCTACTATA: 28259.0\r\n",
      " TGCTCGTAGGATATCT: 46274.0\r\n",
      " TAGCAGCTGATCGTGT: 46292.0\r\n",
      " TATAGCGACGTGAGTG: 56825.0\r\n"
     ]
    }
   ],
   "source": [
    "# This tells us the overall data info\n",
    "# Num obs = OTUs\n",
    "# total count = total seqs\n",
    "# Not awful, but might want more depth\n",
    "# However, remember we ran duplicates of every soil, so we may have ~double the apparent sequences\n",
    "# Spot checking the lowest ones reveals they are blanks\n",
    "# This might be pretty good.\n",
    "# Still, relatively low output - will contrast with dada2 clustering algorithm\n",
    "\n",
    "!cat ../data/Seq_data/QCSeqs/otu_table.summary"
   ]
  },
  {
   "cell_type": "code",
   "execution_count": null,
   "metadata": {
    "collapsed": true
   },
   "outputs": [],
   "source": [
    "# We could think about prepping a MiSeq nano run with a library of the lowest abundance samples,\n",
    "# with a few of the high-abundance samples thrown in to check for consistenct btw runs"
   ]
  }
 ],
 "metadata": {
  "kernelspec": {
   "display_name": "Python 3",
   "language": "python",
   "name": "python3"
  },
  "language_info": {
   "codemirror_mode": {
    "name": "ipython",
    "version": 3
   },
   "file_extension": ".py",
   "mimetype": "text/x-python",
   "name": "python",
   "nbconvert_exporter": "python",
   "pygments_lexer": "ipython3",
   "version": "3.6.0"
  }
 },
 "nbformat": 4,
 "nbformat_minor": 2
}
