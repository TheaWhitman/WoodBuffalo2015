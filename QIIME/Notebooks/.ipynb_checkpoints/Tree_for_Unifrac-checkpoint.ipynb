{
 "cells": [
  {
   "cell_type": "markdown",
   "metadata": {},
   "source": [
    "## Creating a rough tree for Unifrac analyses\n",
    "As currently run, we lost 8/27 archaeal OTUs"
   ]
  },
  {
   "cell_type": "code",
   "execution_count": 1,
   "metadata": {
    "collapsed": false
   },
   "outputs": [
    {
     "name": "stdout",
     "output_type": "stream",
     "text": [
      "/opt/virt_env/bin/ssu-align-0.1\r\n"
     ]
    }
   ],
   "source": [
    "#!export SSUALIGNDIR=\"/opt/virt_env/bin/ssu-align-0.1\"\n",
    "!echo $SSUALIGNDIR"
   ]
  },
  {
   "cell_type": "code",
   "execution_count": 2,
   "metadata": {
    "collapsed": true
   },
   "outputs": [
    {
     "name": "stdout",
     "output_type": "stream",
     "text": [
      "# ssu-align :: align SSU rRNA sequences\r\n",
      "# SSU-ALIGN 0.1 (June 2010)\r\n",
      "# Copyright (C) 2010 HHMI Janelia Farm Research Campus\r\n",
      "# Freely distributed under the GNU General Public License (GPLv3)\r\n",
      "# - - - - - - - - - - - - - - - - - - - - - - - - - - - - - - - - - - - -\r\n",
      "# command: ssu-align -h \r\n",
      "# date:    Sun May 14 14:15:13 2017\r\n",
      "Usage: ssu-align [-options] <sequence file> <output dir>\r\n",
      "\r\n",
      "where general options are:\r\n",
      "  -h     : show brief help on version and usage\r\n",
      "  -f     : force; if dir named <output dir> already exists, empty it first\r\n",
      "  -m <f> : use CM file <f> instead of the default CM file\r\n",
      "  -b <x> : set minimum bit score of a surviving subsequence as <x> [default: 50]\r\n",
      "  -l <n> : set minimum length    of a surviving subsequence as <n> [default: 1]\r\n",
      "  -i     : output alignments in interleaved Stockholm format (not 1 line/seq)\r\n",
      "  -n <s> : only search with and align to single CM named <s> in CM file\r\n",
      "           (default CM file includes 'archaea', 'bacteria', 'eukarya')\r\n",
      "\r\n",
      "miscellaneous output options:\r\n",
      "  --dna      : output alignments as DNA, default is RNA (even if input is DNA)\r\n",
      "  --rfonly   : discard inserts, only keep consensus (nongap RF) columns in alignments\r\n",
      "               (alignments will be fixed width but won't include all target nucleotides)\r\n",
      "\r\n",
      "options for skipping the 1st (search) stage or 2nd (alignment) stage:\r\n",
      "  --no-align  : only search target sequence file for hits, skip alignment step\r\n",
      "  --no-search : only align  target sequence file, skip initial search step\r\n",
      "\r\n",
      "expert options for tuning the initial search stage:\r\n",
      "  --toponly  : only search the top strand [default: search both strands]\r\n",
      "  --forward  : use the HMM forward algorithm for searching, not HMM viterbi\r\n",
      "  --global   : search with globally configured HMM [default: local]\r\n",
      "  --keep-int : keep intermediate files which are normally removed\r\n",
      "\r\n",
      "expert options for tuning the alignment stage:\r\n",
      "  --aln-one <s> : only align best-matching sequences to the CM named <s> in CM file\r\n",
      "  --no-trunc    : do not truncate seqs to HMM predicted start/end, align full seqs\r\n",
      "  --no-prob     : do not append posterior probabilities to alignments\r\n",
      "  --mxsize <f>  : increase mx size for cmalign to <f> Mb [default: 4096]\r\n"
     ]
    }
   ],
   "source": [
    "!ssu-align -h"
   ]
  },
  {
   "cell_type": "code",
   "execution_count": 3,
   "metadata": {
    "collapsed": true
   },
   "outputs": [
    {
     "name": "stdout",
     "output_type": "stream",
     "text": [
      "# ssu-align :: align SSU rRNA sequences\n",
      "# SSU-ALIGN 0.1 (June 2010)\n",
      "# Copyright (C) 2010 HHMI Janelia Farm Research Campus\n",
      "# Freely distributed under the GNU General Public License (GPLv3)\n",
      "# - - - - - - - - - - - - - - - - - - - - - - - - - - - - - - - - - - - -\n",
      "# command: ssu-align -f --dna --rfonly ../OTU_table/dna-sequences.fasta ../OTU_table/Trees\n",
      "# date:    Sun May 14 14:16:00 2017\n",
      "#\n",
      "# Validating input sequence file ... done.\n",
      "#\n",
      "# Stage 1: Determining SSU start/end positions and best-matching models...\n",
      "#\n",
      "# output file name        description                                \n",
      "# ----------------------  -------------------------------------------\n",
      "  Trees.tab               locations/scores of hits defined by HMM(s)\n",
      "  Trees.archaea.hitlist   list of sequences to align with archaea CM\n",
      "  Trees.archaea.fa             27 sequences to align with archaea CM\n",
      "  Trees.bacteria.hitlist  list of sequences to align with bacteria CM\n",
      "  Trees.bacteria.fa          8960 sequences to align with bacteria CM\n",
      "#\n",
      "# Stage 2: Aligning each sequence to its best-matching model...\n",
      "#\n",
      "# output file name        description\n",
      "# ----------------------  ---------------------------------------\n",
      "  Trees.archaea.stk       archaea alignment\n",
      "  Trees.archaea.cmalign   archaea cmalign output\n",
      "  Trees.archaea.ifile     archaea insert info\n",
      "  Trees.bacteria.stk      bacteria alignment\n",
      "  Trees.bacteria.cmalign  bacteria cmalign output\n",
      "  Trees.bacteria.ifile    bacteria insert info\n",
      "  Trees.scores            list of CM/HMM scores for each sequence\n",
      "  Trees.nomatch           list of seqs that don't match any model\n",
      "#\n",
      "# Summary statistics:\n",
      "#\n",
      "# model or       number  fraction        average   average               \n",
      "# category      of seqs  of total         length  coverage    nucleotides\n",
      "# ------------  -------  --------  -------------  --------  -------------\n",
      "  *input*          9028    1.0000         247.21    1.0000        2231773\n",
      "#\n",
      "  archaea            27    0.0030         246.56    0.9997           6657\n",
      "  bacteria         8960    0.9925         245.78    0.9947        2202160\n",
      "  eukarya             0    0.0000              -         -              0\n",
      "#\n",
      "  *all-models*     8987    0.9955         245.78    0.9948        2208817\n",
      "  *no-models*        41    0.0045         276.32    0.0000          11329\n",
      "#\n",
      "# Speed statistics:\n",
      "#\n",
      "# stage      num seqs  seq/sec  seq/sec/model    nucleotides    nt/sec\n",
      "# ---------  --------  -------  -------------  -------------  --------\n",
      "  search         9028   21.427          7.142        2231773    5296.9\n",
      "  alignment      8987   22.583         22.583        2208817    5550.4\n",
      "#\n",
      "#\n",
      "# List of executed commands saved in:     Trees.ssu-align.log.\n",
      "# Output printed to the screen saved in:  Trees.ssu-align.sum.\n",
      "#\n",
      "# All output files created in directory ./../OTU_table/Trees/\n",
      "#\n",
      "# CPU time (search):     00:07:01.34  (hh:mm:ss)\n",
      "# CPU time (alignment):  00:06:37.96  (hh:mm:ss)\n",
      "# CPU time (total):      00:13:40.37  (hh:mm:ss)\n",
      "#\n"
     ]
    }
   ],
   "source": [
    "!ssu-align --dna --rfonly -f ../OTU_table/dna-sequences.fasta ../OTU_table/Trees"
   ]
  },
  {
   "cell_type": "code",
   "execution_count": null,
   "metadata": {
    "collapsed": true
   },
   "outputs": [],
   "source": [
    "#!ssu-mask --afa ../OTU_table/Trees"
   ]
  },
  {
   "cell_type": "code",
   "execution_count": 4,
   "metadata": {
    "collapsed": true
   },
   "outputs": [
    {
     "name": "stdout",
     "output_type": "stream",
     "text": [
      "# ssu-align :: align SSU rRNA sequences\n",
      "# SSU-ALIGN 0.1 (June 2010)\n",
      "# Copyright (C) 2010 HHMI Janelia Farm Research Campus\n",
      "# Freely distributed under the GNU General Public License (GPLv3)\n",
      "# - - - - - - - - - - - - - - - - - - - - - - - - - - - - - - - - - - - -\n",
      "# command: ssu-align -f -n bacteria --dna --rfonly ../OTU_table/dna-sequences.fasta ../OTU_table/Trees/bacteria\n",
      "# date:    Sun May 14 14:31:44 2017\n",
      "#\n",
      "# Validating input sequence file ... done.\n",
      "#\n",
      "# Stage 1: Determining SSU start/end positions and best-matching models...\n",
      "#\n",
      "# output file name           description                                \n",
      "# -------------------------  -------------------------------------------\n",
      "  bacteria.tab               locations/scores of hits defined by HMM(s)\n",
      "  bacteria.bacteria.hitlist  list of sequences to align with bacteria CM\n",
      "  bacteria.bacteria.fa          8979 sequences to align with bacteria CM\n",
      "#\n",
      "# Stage 2: Aligning each sequence to its best-matching model...\n",
      "#\n",
      "# output file name           description\n",
      "# -------------------------  ---------------------------------------\n",
      "  bacteria.bacteria.stk      bacteria alignment\n",
      "  bacteria.bacteria.cmalign  bacteria cmalign output\n",
      "  bacteria.bacteria.ifile    bacteria insert info\n",
      "  bacteria.scores            list of CM/HMM scores for each sequence\n",
      "  bacteria.nomatch           list of seqs that don't match any model\n",
      "#\n",
      "# Summary statistics:\n",
      "#\n",
      "# model or       number  fraction        average   average               \n",
      "# category      of seqs  of total         length  coverage    nucleotides\n",
      "# ------------  -------  --------  -------------  --------  -------------\n",
      "  *input*          9028    1.0000         247.21    1.0000        2231773\n",
      "#\n",
      "  bacteria         8979    0.9946         245.73    0.9946        2206394\n",
      "#\n",
      "  *all-models*     8979    0.9946         245.73    0.9946        2206394\n",
      "  *no-models*        49    0.0054         271.39    0.0000          13298\n",
      "#\n",
      "# Speed statistics:\n",
      "#\n",
      "# stage      num seqs  seq/sec  seq/sec/model    nucleotides    nt/sec\n",
      "# ---------  --------  -------  -------------  -------------  --------\n",
      "  search         9028   63.728         63.728        2231773   15753.9\n",
      "  alignment      8979   22.923         22.923        2206394    5632.7\n",
      "#\n",
      "#\n",
      "# List of executed commands saved in:     bacteria.ssu-align.log.\n",
      "# Output printed to the screen saved in:  bacteria.ssu-align.sum.\n",
      "#\n",
      "# All output files created in directory ./../OTU_table/Trees/bacteria/\n",
      "#\n",
      "# CPU time (search):     00:02:21.67  (hh:mm:ss)\n",
      "# CPU time (alignment):  00:06:31.71  (hh:mm:ss)\n",
      "# CPU time (total):      00:08:54.11  (hh:mm:ss)\n",
      "#\n"
     ]
    }
   ],
   "source": [
    "!ssu-align --dna --rfonly -n \"bacteria\" -f ../OTU_table/dna-sequences.fasta ../OTU_table/Trees/bacteria\n",
    "# Run this one so long as it picks up the archaea as well.\n",
    "# We lose "
   ]
  },
  {
   "cell_type": "code",
   "execution_count": null,
   "metadata": {
    "collapsed": true
   },
   "outputs": [],
   "source": [
    "!ssu-mask --afa ../OTU_table/Trees/bacteria"
   ]
  },
  {
   "cell_type": "code",
   "execution_count": null,
   "metadata": {
    "collapsed": true
   },
   "outputs": [],
   "source": [
    "!cp ../OTU_table/Trees/bacteria/bacteria.bacteria.mask.afa ../OTU_table/Trees/fulltree.fasta"
   ]
  },
  {
   "cell_type": "code",
   "execution_count": null,
   "metadata": {
    "collapsed": true
   },
   "outputs": [],
   "source": [
    "!make_phylogeny.py -i ../OTU_table/Trees/fulltree.fasta -o ../OTU_table/Trees/fulltree.tre -t fasttree"
   ]
  }
 ],
 "metadata": {
  "kernelspec": {
   "display_name": "Python 3",
   "language": "python",
   "name": "python3"
  },
  "language_info": {
   "codemirror_mode": {
    "name": "ipython",
    "version": 3
   },
   "file_extension": ".py",
   "mimetype": "text/x-python",
   "name": "python",
   "nbconvert_exporter": "python",
   "pygments_lexer": "ipython3",
   "version": "3.6.0"
  }
 },
 "nbformat": 4,
 "nbformat_minor": 2
}
