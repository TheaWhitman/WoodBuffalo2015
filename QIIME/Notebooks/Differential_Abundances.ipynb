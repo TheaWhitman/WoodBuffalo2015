{
 "cells": [
  {
   "cell_type": "code",
   "execution_count": 1,
   "metadata": {
    "collapsed": true
   },
   "outputs": [
    {
     "name": "stderr",
     "output_type": "stream",
     "text": [
      "Loading required package: S4Vectors\n",
      "Loading required package: stats4\n",
      "Loading required package: BiocGenerics\n",
      "Loading required package: parallel\n",
      "\n",
      "Attaching package: ‘BiocGenerics’\n",
      "\n",
      "The following objects are masked from ‘package:parallel’:\n",
      "\n",
      "    clusterApply, clusterApplyLB, clusterCall, clusterEvalQ,\n",
      "    clusterExport, clusterMap, parApply, parCapply, parLapply,\n",
      "    parLapplyLB, parRapply, parSapply, parSapplyLB\n",
      "\n",
      "The following objects are masked from ‘package:stats’:\n",
      "\n",
      "    IQR, mad, xtabs\n",
      "\n",
      "The following objects are masked from ‘package:base’:\n",
      "\n",
      "    anyDuplicated, append, as.data.frame, cbind, colnames, do.call,\n",
      "    duplicated, eval, evalq, Filter, Find, get, grep, grepl, intersect,\n",
      "    is.unsorted, lapply, lengths, Map, mapply, match, mget, order,\n",
      "    paste, pmax, pmax.int, pmin, pmin.int, Position, rank, rbind,\n",
      "    Reduce, rownames, sapply, setdiff, sort, table, tapply, union,\n",
      "    unique, unsplit, which, which.max, which.min\n",
      "\n",
      "\n",
      "Attaching package: ‘S4Vectors’\n",
      "\n",
      "The following objects are masked from ‘package:base’:\n",
      "\n",
      "    colMeans, colSums, expand.grid, rowMeans, rowSums\n",
      "\n",
      "Loading required package: IRanges\n",
      "Loading required package: GenomicRanges\n",
      "Loading required package: GenomeInfoDb\n",
      "Loading required package: SummarizedExperiment\n",
      "Loading required package: Biobase\n",
      "Welcome to Bioconductor\n",
      "\n",
      "    Vignettes contain introductory material; view with\n",
      "    'browseVignettes()'. To cite Bioconductor, see\n",
      "    'citation(\"Biobase\")', and for packages 'citation(\"pkgname\")'.\n",
      "\n",
      "\n",
      "Attaching package: ‘phyloseq’\n",
      "\n",
      "The following object is masked from ‘package:SummarizedExperiment’:\n",
      "\n",
      "    distance\n",
      "\n",
      "The following object is masked from ‘package:Biobase’:\n",
      "\n",
      "    sampleNames\n",
      "\n",
      "The following object is masked from ‘package:GenomicRanges’:\n",
      "\n",
      "    distance\n",
      "\n",
      "The following object is masked from ‘package:IRanges’:\n",
      "\n",
      "    distance\n",
      "\n",
      "\n",
      "Attaching package: ‘plyr’\n",
      "\n",
      "The following object is masked from ‘package:IRanges’:\n",
      "\n",
      "    desc\n",
      "\n",
      "The following object is masked from ‘package:S4Vectors’:\n",
      "\n",
      "    rename\n",
      "\n",
      "\n",
      "Attaching package: ‘dplyr’\n",
      "\n",
      "The following objects are masked from ‘package:plyr’:\n",
      "\n",
      "    arrange, count, desc, failwith, id, mutate, rename, summarise,\n",
      "    summarize\n",
      "\n",
      "The following object is masked from ‘package:Biobase’:\n",
      "\n",
      "    combine\n",
      "\n",
      "The following objects are masked from ‘package:GenomicRanges’:\n",
      "\n",
      "    intersect, setdiff, union\n",
      "\n",
      "The following object is masked from ‘package:GenomeInfoDb’:\n",
      "\n",
      "    intersect\n",
      "\n",
      "The following objects are masked from ‘package:IRanges’:\n",
      "\n",
      "    collapse, desc, intersect, regroup, setdiff, slice, union\n",
      "\n",
      "The following objects are masked from ‘package:S4Vectors’:\n",
      "\n",
      "    first, intersect, rename, setdiff, setequal, union\n",
      "\n",
      "The following objects are masked from ‘package:BiocGenerics’:\n",
      "\n",
      "    combine, intersect, setdiff, union\n",
      "\n",
      "The following objects are masked from ‘package:stats’:\n",
      "\n",
      "    filter, lag\n",
      "\n",
      "The following objects are masked from ‘package:base’:\n",
      "\n",
      "    intersect, setdiff, setequal, union\n",
      "\n",
      "Warning message:\n",
      "“package ‘ggplot2’ was built under R version 3.3.2”"
     ]
    }
   ],
   "source": [
    "# loading R packages\n",
    "library(DESeq2)\n",
    "library(phyloseq)\n",
    "library(plyr)\n",
    "library(dplyr)\n",
    "library(ggplot2)"
   ]
  },
  {
   "cell_type": "code",
   "execution_count": 2,
   "metadata": {
    "collapsed": true
   },
   "outputs": [
    {
     "name": "stderr",
     "output_type": "stream",
     "text": [
      "Warning message in strsplit(msg, \"\\n\"):\n",
      "“input string 1 is invalid in this locale”"
     ]
    }
   ],
   "source": [
    "# Importing the dataset\n",
    "ps = import_biom(\"../OTU_table/feature-table-metaD-tax.biom\",parseFunction=parse_taxonomy_greengenes, \"../OTU_table/Trees/fulltree.tre\")"
   ]
  },
  {
   "cell_type": "code",
   "execution_count": 3,
   "metadata": {
    "collapsed": true
   },
   "outputs": [
    {
     "name": "stderr",
     "output_type": "stream",
     "text": [
      "Warning message in eval(expr, envir, enclos):\n",
      "“NAs introduced by coercion”Warning message in eval(expr, envir, enclos):\n",
      "“NAs introduced by coercion”Warning message in eval(expr, envir, enclos):\n",
      "“NAs introduced by coercion”Warning message in eval(expr, envir, enclos):\n",
      "“NAs introduced by coercion”Warning message in eval(expr, envir, enclos):\n",
      "“NAs introduced by coercion”Warning message in eval(expr, envir, enclos):\n",
      "“NAs introduced by coercion”Warning message in eval(expr, envir, enclos):\n",
      "“NAs introduced by coercion”Warning message in eval(expr, envir, enclos):\n",
      "“NAs introduced by coercion”Warning message in eval(expr, envir, enclos):\n",
      "“NAs introduced by coercion”Warning message in eval(expr, envir, enclos):\n",
      "“NAs introduced by coercion”Warning message in eval(expr, envir, enclos):\n",
      "“NAs introduced by coercion”Warning message in eval(expr, envir, enclos):\n",
      "“NAs introduced by coercion”Warning message in eval(expr, envir, enclos):\n",
      "“NAs introduced by coercion”Warning message in eval(expr, envir, enclos):\n",
      "“NAs introduced by coercion”Warning message in eval(expr, envir, enclos):\n",
      "“NAs introduced by coercion”Warning message in eval(expr, envir, enclos):\n",
      "“NAs introduced by coercion”Warning message in eval(expr, envir, enclos):\n",
      "“NAs introduced by coercion”"
     ]
    }
   ],
   "source": [
    "# Setting various parameters as combined values\n",
    "sample_data(ps)$pH = as.numeric(sample_data(ps)$pH)\n",
    "sample_data(ps)$Total_C_pct = as.numeric(sample_data(ps)$TC_pct)\n",
    "sample_data(ps)$Total_N_pct = as.numeric(sample_data(ps)$Total_N_pct)\n",
    "sample_data(ps)$Total_S_pct = as.numeric(sample_data(ps)$Total_S_pct)\n",
    "sample_data(ps)$Burn_Severity_Index= as.numeric(sample_data(ps)$Burn_Severity_Index)\n",
    "sample_data(ps)$CBI= as.numeric(sample_data(ps)$CBI)\n",
    "sample_data(ps)$RBR= as.numeric(sample_data(ps)$RBR)\n",
    "sample_data(ps)$CFSI= as.numeric(sample_data(ps)$CFSI)\n",
    "sample_data(ps)$Mean_Duff_Depth_cm = as.numeric(sample_data(ps)$Mean_Duff_Depth_cm)\n",
    "sample_data(ps)$Understory_CBI= as.numeric(sample_data(ps)$Understory_CBI)\n",
    "sample_data(ps)$Overstory_CBI= as.numeric(sample_data(ps)$Overstory_CBI)\n",
    "sample_data(ps)$Overstory_CBI= as.numeric(sample_data(ps)$Overstory_CBI)\n",
    "sample_data(ps)$Dead_Trees= as.numeric(sample_data(ps)$Dead_Trees)\n",
    "sample_data(ps)$Pct_Exposed_Mineral= as.numeric(sample_data(ps)$Pct_Exposed_Mineral)\n",
    "sample_data(ps)$dc = as.numeric(sample_data(ps)$dc)\n",
    "sample_data(ps)$fwi = as.numeric(sample_data(ps)$fwi)\n",
    "sample_data(ps)$dmc = as.numeric(sample_data(ps)$dmc)\n",
    "sample_data(ps)$ffmc = as.numeric(sample_data(ps)$ffmc)\n",
    "sample_data(ps)$TotalSeqs=sample_sums(ps)"
   ]
  },
  {
   "cell_type": "code",
   "execution_count": 4,
   "metadata": {
    "collapsed": true
   },
   "outputs": [
    {
     "name": "stderr",
     "output_type": "stream",
     "text": [
      "Warning message in asMethod(object):\n",
      "“NAs introduced by coercion”Warning message in asMethod(object):\n",
      "“NAs introduced by coercion”Warning message in asMethod(object):\n",
      "“NAs introduced by coercion”Warning message in asMethod(object):\n",
      "“NAs introduced by coercion”Warning message in asMethod(object):\n",
      "“NAs introduced by coercion”Warning message in asMethod(object):\n",
      "“NAs introduced by coercion”Warning message in asMethod(object):\n",
      "“NAs introduced by coercion”Warning message in asMethod(object):\n",
      "“NAs introduced by coercion”Warning message in asMethod(object):\n",
      "“NAs introduced by coercion”Warning message in asMethod(object):\n",
      "“NAs introduced by coercion”Warning message in asMethod(object):\n",
      "“NAs introduced by coercion”Warning message in asMethod(object):\n",
      "“NAs introduced by coercion”Warning message in asMethod(object):\n",
      "“NAs introduced by coercion”Warning message in asMethod(object):\n",
      "“NAs introduced by coercion”Warning message in asMethod(object):\n",
      "“NAs introduced by coercion”Warning message in asMethod(object):\n",
      "“NAs introduced by coercion”Warning message in asMethod(object):\n",
      "“NAs introduced by coercion”Warning message in asMethod(object):\n",
      "“NAs introduced by coercion”Warning message in asMethod(object):\n",
      "“NAs introduced by coercion”Warning message in asMethod(object):\n",
      "“NAs introduced by coercion”Warning message in asMethod(object):\n",
      "“NAs introduced by coercion”Warning message in asMethod(object):\n",
      "“NAs introduced by coercion”Warning message in asMethod(object):\n",
      "“NAs introduced by coercion”Warning message in asMethod(object):\n",
      "“NAs introduced by coercion”Warning message in asMethod(object):\n",
      "“NAs introduced by coercion”Warning message in asMethod(object):\n",
      "“NAs introduced by coercion”Warning message in asMethod(object):\n",
      "“NAs introduced by coercion”Warning message in asMethod(object):\n",
      "“NAs introduced by coercion”Warning message in asMethod(object):\n",
      "“NAs introduced by coercion”Warning message in asMethod(object):\n",
      "“NAs introduced by coercion”Warning message in asMethod(object):\n",
      "“NAs introduced by coercion”Warning message in asMethod(object):\n",
      "“NAs introduced by coercion”Warning message in asMethod(object):\n",
      "“NAs introduced by coercion”Warning message in asMethod(object):\n",
      "“NAs introduced by coercion”Warning message in asMethod(object):\n",
      "“NAs introduced by coercion”Warning message in asMethod(object):\n",
      "“NAs introduced by coercion”Warning message in asMethod(object):\n",
      "“NAs introduced by coercion”Warning message in asMethod(object):\n",
      "“NAs introduced by coercion”Warning message in asMethod(object):\n",
      "“NAs introduced by coercion”Warning message in asMethod(object):\n",
      "“NAs introduced by coercion”Warning message in asMethod(object):\n",
      "“NAs introduced by coercion”"
     ]
    }
   ],
   "source": [
    "# Pulling out samples from this project only\n",
    "ps.wb = prune_samples(sample_data(ps)$Project_ID==\"WB15\", ps)\n",
    "ps.wb = prune_samples(sample_data(ps.wb)$Org_or_Min %in% c(\"O\",\"M\"), ps.wb)\n",
    "# Merging lab replicates for analysis\n",
    "ps.merged = merge_samples(ps.wb, \"Sample_ID\")\n",
    "\n",
    "# This sums the OTUs for each sample ID, and averages the sample data\n",
    "# That's an issue for the non-numeric sample data, so we have to add it back in.\n",
    "# The code below is probably inefficient, but it works correctly.\n",
    "names=colnames(sample_data(ps.wb))\n",
    "notcommonnames = c('Sample_Name','Replicate','Project_ID','Fwd_Primer_Barcode','Rev_Primer_Barcode','Revcomp_Rev_Primer_Barcode')\n",
    "commonnames = names[(names %in% notcommonnames)]\n",
    "common_sample_data = sample_data(ps.wb)[ , -which(names(sample_data(ps.wb)) %in% commonnames)]\n",
    "commonrownames=row.names(sample_data(ps.merged))\n",
    "common_sample_data2 = common_sample_data[which(common_sample_data$Sample_ID %in% commonrownames),]\n",
    "common_sample_data2 = common_sample_data2[!duplicated(common_sample_data2$Sample_ID), ]\n",
    "row.names(common_sample_data2) = common_sample_data2$Sample_ID\n",
    "sample_data(ps.merged)=common_sample_data2\n",
    "\n",
    "minseqs = 1500\n",
    "ps.merged.min = prune_samples(sample_data(ps.merged)$TotalSeqs>minseqs,ps.merged)"
   ]
  },
  {
   "cell_type": "code",
   "execution_count": 7,
   "metadata": {
    "collapsed": false
   },
   "outputs": [
    {
     "data": {
      "text/plain": [
       "phyloseq-class experiment-level object\n",
       "otu_table()   OTU Table:         [ 7612 taxa and 93 samples ]\n",
       "sample_data() Sample Data:       [ 93 samples by 66 sample variables ]\n",
       "tax_table()   Taxonomy Table:    [ 7612 taxa by 7 taxonomic ranks ]\n",
       "phy_tree()    Phylogenetic Tree: [ 7612 tips and 7609 internal nodes ]"
      ]
     },
     "metadata": {},
     "output_type": "display_data"
    }
   ],
   "source": [
    "ps = ps.merged.min\n",
    "ps = prune_samples(!is.na(sample_data(ps)$CBI), ps)\n",
    "ps = prune_samples(!is.na(sample_data(ps)$pH), ps)\n",
    "ps = prune_samples(!is.na(sample_data(ps)$Org_or_Min), ps)\n",
    "ps = prune_taxa(taxa_sums(ps)>0, ps)\n",
    "ps"
   ]
  },
  {
   "cell_type": "code",
   "execution_count": 6,
   "metadata": {
    "collapsed": false,
    "scrolled": true
   },
   "outputs": [
    {
     "name": "stderr",
     "output_type": "stream",
     "text": [
      "converting counts to integer mode\n"
     ]
    },
    {
     "ename": "ERROR",
     "evalue": "Error in estimateSizeFactorsIterate(object): iterative size factor normalization did not converge\n",
     "output_type": "error",
     "traceback": [
      "Error in estimateSizeFactorsIterate(object): iterative size factor normalization did not converge\nTraceback:\n",
      "1. estimateSizeFactors(dseq, type = \"iterate\")",
      "2. estimateSizeFactors(dseq, type = \"iterate\")",
      "3. .local(object, ...)",
      "4. estimateSizeFactorsIterate(object)",
      "5. stop(\"iterative size factor normalization did not converge\")"
     ]
    }
   ],
   "source": [
    "ps = ps.merged.min\n",
    "ps = prune_samples(!is.na(sample_data(ps)$CBI), ps)\n",
    "#ps = prune_samples(!is.na(sample_data(ps)$pH), ps)\n",
    "#ps = prune_samples(!is.na(sample_data(ps)$Org_or_Min), ps)\n",
    "#ps = prune_taxa(taxa_sums(ps)>2000, ps)\n",
    "# Trying different cutoffs to help estimateSizeFactors work\n",
    "\n",
    "dseq = phyloseq_to_deseq2(ps, ~CBI)\n",
    "dseq = estimateSizeFactors(dseq, type=\"iterate\")"
   ]
  },
  {
   "cell_type": "code",
   "execution_count": 28,
   "metadata": {
    "collapsed": true
   },
   "outputs": [
    {
     "name": "stderr",
     "output_type": "stream",
     "text": [
      "converting counts to integer mode\n",
      "Warning message in DESeqDataSet(se, design = design, ignoreRank):\n",
      "“some variables in design formula are characters, converting to factors”"
     ]
    },
    {
     "ename": "ERROR",
     "evalue": "Error in estimateSizeFactorsIterate(object): iterative size factor normalization did not converge\n",
     "output_type": "error",
     "traceback": [
      "Error in estimateSizeFactorsIterate(object): iterative size factor normalization did not converge\nTraceback:\n",
      "1. estimateSizeFactors(dseq, type = \"iterate\")",
      "2. estimateSizeFactors(dseq, type = \"iterate\")",
      "3. .local(object, ...)",
      "4. estimateSizeFactorsIterate(object)",
      "5. stop(\"iterative size factor normalization did not converge\")"
     ]
    }
   ],
   "source": [
    "# This is done because all \"genes\" contain at least one zero - need to get t\n",
    "#dseq$Trtmt = relevel(dseq$Trtmt,\"Soil\")\n",
    "dseq = DESeq(dseq, quiet = FALSE, fitType = \"local\")\n",
    "results = results(dseq, cooksCutoff=TRUE)\n",
    "# Change Cooks Cutoff to control outliers or not\n",
    "results$CBI = CBI\n",
    "results$pH = pH\n",
    "results$Org_or_Min = Org_or_Min\n",
    "taxonomy = data.frame(tax_table(ps))\n",
    "results = data.frame(results$CBI,results$pH,results$Org_or_Min,rownames(results),results$baseMean,results$log2FoldChange,results$lfcSE,results$pvalue,taxonomy[,1:7])\n",
    "colnames(results) = c(\"CBI\",\"pH\",\"Org_or_Min\",\"OTU\",\"baseMean\",\"l2FC\",\"SE\",\"pvalue\",\"Kingdom\",\"Phylum\",\"Class\",\"Order\",\"Family\",\"Genus\",\"Species\")"
   ]
  },
  {
   "cell_type": "code",
   "execution_count": null,
   "metadata": {
    "collapsed": true
   },
   "outputs": [],
   "source": [
    "DA = results"
   ]
  },
  {
   "cell_type": "code",
   "execution_count": null,
   "metadata": {
    "collapsed": true
   },
   "outputs": [],
   "source": [
    "threshold = function (thresh){\n",
    "    dplyr::filter(DA, baseMean >= thresh) %>% \n",
    "    dplyr::mutate(padj = p.adjust(pvalue,\"BH\")) %>%\n",
    "    dplyr::summarize(cutoff=thresh, count=sum(padj<=0.10, na.rm = TRUE))\n",
    "}"
   ]
  },
  {
   "cell_type": "code",
   "execution_count": null,
   "metadata": {
    "collapsed": true
   },
   "outputs": [],
   "source": [
    "range = seq(0,1,0.05)\n",
    "# Creates a range of numbers we are interested in for adjusted p values\n",
    "thresh.s <- ldply(range, threshold)\n",
    "# Applys the Threshold function we created above to the range of numbers we created above.\n",
    "\n",
    "plot(thresh.s$count~thresh.s$cutoff)\n",
    "# We can plot the threshold for base Mean value against the number of samples that will pass under this cutoff."
   ]
  },
  {
   "cell_type": "code",
   "execution_count": null,
   "metadata": {
    "collapsed": true
   },
   "outputs": [],
   "source": [
    "group_by(DA, Trtmt,Month) %>%\n",
    "    mutate(Total=sum(baseMean)) %>%\n",
    "    filter(baseMean>=0.6) %>% \n",
    "    mutate(padj = p.adjust(pvalue,\"BH\")) %>% \n",
    "    write.csv(\"\", row.names=FALSE)\n",
    "# We take that differential abundance table we created above, and filter it to include only those samples \n",
    "# that had a baseMean value above the optimal cutoff we determined above.\n",
    "# We then adjust the p values and save it as a csv."
   ]
  },
  {
   "cell_type": "code",
   "execution_count": null,
   "metadata": {
    "collapsed": true
   },
   "outputs": [],
   "source": [
    "l2fc = read.csv(\"../../SeqData/l2fc.csv\")"
   ]
  },
  {
   "cell_type": "code",
   "execution_count": null,
   "metadata": {
    "collapsed": true
   },
   "outputs": [],
   "source": [
    "cutoff = 0.1\n",
    "\n",
    "d = l2fc\n",
    "d = group_by(d, Trtmt, Month) %>%\n",
    "    mutate(sig = ifelse(padj<cutoff,1,0))%>%\n",
    "    mutate(relabund=baseMean/Total)%>%\n",
    "    filter(pvalue != 'NA')\n",
    "\n",
    "p = ggplot(d, aes(x = Phylum, y = l2FC, fill = Phylum, size = relabund))\n",
    "# establishing our plot is based on the data table d, with our x being the phylum, and the y being log2fold change,\n",
    "# and the colour being based on our \"yes\" or \"no\" column in the d data table.\n",
    "\n",
    "p = p + facet_grid(~Land_Class~Org_or_Min, scales=\"free_x\")\n",
    "# saying we want it to present the data separately for our two variables (trtmt and month), in 2 columns\n",
    "\n",
    "d$sig = as.factor(d$sig)\n",
    "    \n",
    "d.yes = d[d$sig==1,]\n",
    "d.no = d[d$sig==0,]\n",
    "    \n",
    "p = p + geom_point(data=d.yes, aes(x = Phylum, y = l2FC, fill = Phylum, size=relabund), shape = 21, alpha=0.4, position = position_jitter(w = 0.20))\n",
    "p = p + geom_point(data=d.no, aes(x = Phylum, y = l2FC, fill = sig, size=relabund), shape = 21, alpha=0.3, position = position_jitter(w = 0.20))\n",
    "\n",
    "    \n",
    "#p = p + geom_point(shape = 21, alpha=0.45, position = position_jitter(w = 0.20), aes(size = relabund))\n",
    "# sets the points size and shape, and offsets them slightly (jitter) so they're not right on top of each other\n",
    "\n",
    "p = p + scale_size_continuous(\"log(Relative\\nAbundance)\",trans=\"log\",guide=\"none\")\n",
    "\n",
    "p = p + theme_bw()\n",
    "# sets a theme\n",
    "\n",
    "p = p + theme(strip.text.x = element_text(size = 24),\n",
    "              strip.text.y = element_text(size = 24),\n",
    "              axis.text.x = element_text(size = 14, angle = 45, hjust = 1, vjust = 1),\n",
    "              axis.title.x = element_text(size = 28),\n",
    "              axis.text.y = element_text(size=16),\n",
    "              axis.title.y = element_text(size = 28),\n",
    "              legend.title = element_text(size=20),\n",
    "              legend.text = element_text(size = 14),\n",
    "              #legend.position = \"none\",\n",
    "              strip.background = element_blank())\n",
    "# sets a bunch of visual paramters for the legend (none) and other text\n",
    "    \n",
    "p = p + labs(x = \"Phylum\")\n",
    "# sets the label for the x axis. I think they didn't get the different colours.\n",
    "\n",
    "p = p + labs(y = expression(paste(\"\", log[2],\" fold change with increasing CBI\",sep=\"\")))\n",
    "# sets the label for the y axes.\n",
    "p = p + scale_fill_manual(guide=\"none\", values=c(\"grey\",paste(getPalette(colourCount))))\n",
    "\n",
    "\n",
    "#p = p + scale_color_continuous(trans=\"log\")    \n",
    "#p = p + scale_fill_discrete(guide=\"none\")\n",
    "\n",
    "\n",
    "p = p + theme(panel.grid.major = element_blank(), panel.grid.minor = element_blank())\n",
    "# Gets rid of the default gridlines\n",
    "\n",
    "    \n",
    "# Would be cool to colour this by relative abundance in soil to begin with.. what drives patterns more?\n",
    "    \n",
    "p"
   ]
  }
 ],
 "metadata": {
  "kernelspec": {
   "display_name": "R",
   "language": "R",
   "name": "ir"
  },
  "language_info": {
   "codemirror_mode": "r",
   "file_extension": ".r",
   "mimetype": "text/x-r-source",
   "name": "R",
   "pygments_lexer": "r",
   "version": "3.3.1"
  }
 },
 "nbformat": 4,
 "nbformat_minor": 2
}
